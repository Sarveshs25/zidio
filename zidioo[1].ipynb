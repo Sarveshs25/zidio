{
  "cells": [
    {
      "cell_type": "code",
      "execution_count": 1,
      "metadata": {
        "colab": {
          "base_uri": "https://localhost:8080/"
        },
        "id": "wba1nw4utgi8",
        "outputId": "07f90f23-df70-4520-b99f-0fc1f04bec6f"
      },
      "outputs": [
        {
          "name": "stdout",
          "output_type": "stream",
          "text": [
            "Requirement already satisfied: textblob in c:\\users\\sarxx\\appdata\\local\\programs\\python\\python312\\lib\\site-packages (0.19.0)\n",
            "Requirement already satisfied: deepface in c:\\users\\sarxx\\appdata\\local\\programs\\python\\python312\\lib\\site-packages (0.0.93)\n",
            "Requirement already satisfied: opencv-python in c:\\users\\sarxx\\appdata\\local\\programs\\python\\python312\\lib\\site-packages (4.11.0.86)\n",
            "Requirement already satisfied: librosa in c:\\users\\sarxx\\appdata\\local\\programs\\python\\python312\\lib\\site-packages (0.11.0)\n",
            "Requirement already satisfied: soundfile in c:\\users\\sarxx\\appdata\\local\\programs\\python\\python312\\lib\\site-packages (0.13.1)\n",
            "Requirement already satisfied: numpy in c:\\users\\sarxx\\appdata\\local\\programs\\python\\python312\\lib\\site-packages (2.1.3)\n",
            "Requirement already satisfied: pandas in c:\\users\\sarxx\\appdata\\local\\programs\\python\\python312\\lib\\site-packages (2.2.3)\n",
            "Requirement already satisfied: scikit-learn in c:\\users\\sarxx\\appdata\\local\\programs\\python\\python312\\lib\\site-packages (1.6.1)\n",
            "Requirement already satisfied: nltk>=3.9 in c:\\users\\sarxx\\appdata\\local\\programs\\python\\python312\\lib\\site-packages (from textblob) (3.9.1)\n",
            "Requirement already satisfied: requests>=2.27.1 in c:\\users\\sarxx\\appdata\\local\\programs\\python\\python312\\lib\\site-packages (from deepface) (2.32.3)\n",
            "Requirement already satisfied: gdown>=3.10.1 in c:\\users\\sarxx\\appdata\\local\\programs\\python\\python312\\lib\\site-packages (from deepface) (5.2.0)\n",
            "Requirement already satisfied: tqdm>=4.30.0 in c:\\users\\sarxx\\appdata\\local\\programs\\python\\python312\\lib\\site-packages (from deepface) (4.67.1)\n",
            "Requirement already satisfied: Pillow>=5.2.0 in c:\\users\\sarxx\\appdata\\local\\programs\\python\\python312\\lib\\site-packages (from deepface) (11.1.0)\n",
            "Requirement already satisfied: tensorflow>=1.9.0 in c:\\users\\sarxx\\appdata\\local\\programs\\python\\python312\\lib\\site-packages (from deepface) (2.19.0)\n",
            "Requirement already satisfied: keras>=2.2.0 in c:\\users\\sarxx\\appdata\\local\\programs\\python\\python312\\lib\\site-packages (from deepface) (3.9.0)\n",
            "Requirement already satisfied: Flask>=1.1.2 in c:\\users\\sarxx\\appdata\\local\\programs\\python\\python312\\lib\\site-packages (from deepface) (3.1.0)\n",
            "Requirement already satisfied: flask-cors>=4.0.1 in c:\\users\\sarxx\\appdata\\local\\programs\\python\\python312\\lib\\site-packages (from deepface) (5.0.1)\n",
            "Requirement already satisfied: mtcnn>=0.1.0 in c:\\users\\sarxx\\appdata\\local\\programs\\python\\python312\\lib\\site-packages (from deepface) (1.0.0)\n",
            "Requirement already satisfied: retina-face>=0.0.1 in c:\\users\\sarxx\\appdata\\local\\programs\\python\\python312\\lib\\site-packages (from deepface) (0.0.17)\n",
            "Requirement already satisfied: fire>=0.4.0 in c:\\users\\sarxx\\appdata\\local\\programs\\python\\python312\\lib\\site-packages (from deepface) (0.7.0)\n",
            "Requirement already satisfied: gunicorn>=20.1.0 in c:\\users\\sarxx\\appdata\\local\\programs\\python\\python312\\lib\\site-packages (from deepface) (23.0.0)\n",
            "Requirement already satisfied: audioread>=2.1.9 in c:\\users\\sarxx\\appdata\\local\\programs\\python\\python312\\lib\\site-packages (from librosa) (3.0.1)\n",
            "Requirement already satisfied: numba>=0.51.0 in c:\\users\\sarxx\\appdata\\local\\programs\\python\\python312\\lib\\site-packages (from librosa) (0.61.0)\n",
            "Requirement already satisfied: scipy>=1.6.0 in c:\\users\\sarxx\\appdata\\local\\programs\\python\\python312\\lib\\site-packages (from librosa) (1.15.2)\n",
            "Requirement already satisfied: joblib>=1.0 in c:\\users\\sarxx\\appdata\\local\\programs\\python\\python312\\lib\\site-packages (from librosa) (1.4.2)\n",
            "Requirement already satisfied: decorator>=4.3.0 in c:\\users\\sarxx\\appdata\\roaming\\python\\python312\\site-packages (from librosa) (5.2.1)\n",
            "Requirement already satisfied: pooch>=1.1 in c:\\users\\sarxx\\appdata\\local\\programs\\python\\python312\\lib\\site-packages (from librosa) (1.8.2)\n",
            "Requirement already satisfied: soxr>=0.3.2 in c:\\users\\sarxx\\appdata\\local\\programs\\python\\python312\\lib\\site-packages (from librosa) (0.5.0.post1)\n",
            "Requirement already satisfied: typing_extensions>=4.1.1 in c:\\users\\sarxx\\appdata\\local\\programs\\python\\python312\\lib\\site-packages (from librosa) (4.12.2)\n",
            "Requirement already satisfied: lazy_loader>=0.1 in c:\\users\\sarxx\\appdata\\local\\programs\\python\\python312\\lib\\site-packages (from librosa) (0.4)\n",
            "Requirement already satisfied: msgpack>=1.0 in c:\\users\\sarxx\\appdata\\local\\programs\\python\\python312\\lib\\site-packages (from librosa) (1.1.0)\n",
            "Requirement already satisfied: cffi>=1.0 in c:\\users\\sarxx\\appdata\\local\\programs\\python\\python312\\lib\\site-packages (from soundfile) (1.17.1)\n",
            "Requirement already satisfied: python-dateutil>=2.8.2 in c:\\users\\sarxx\\appdata\\roaming\\python\\python312\\site-packages (from pandas) (2.9.0.post0)\n",
            "Requirement already satisfied: pytz>=2020.1 in c:\\users\\sarxx\\appdata\\local\\programs\\python\\python312\\lib\\site-packages (from pandas) (2025.1)\n",
            "Requirement already satisfied: tzdata>=2022.7 in c:\\users\\sarxx\\appdata\\local\\programs\\python\\python312\\lib\\site-packages (from pandas) (2025.1)\n",
            "Requirement already satisfied: threadpoolctl>=3.1.0 in c:\\users\\sarxx\\appdata\\local\\programs\\python\\python312\\lib\\site-packages (from scikit-learn) (3.6.0)\n",
            "Requirement already satisfied: pycparser in c:\\users\\sarxx\\appdata\\local\\programs\\python\\python312\\lib\\site-packages (from cffi>=1.0->soundfile) (2.22)\n",
            "Requirement already satisfied: termcolor in c:\\users\\sarxx\\appdata\\local\\programs\\python\\python312\\lib\\site-packages (from fire>=0.4.0->deepface) (2.5.0)\n",
            "Requirement already satisfied: Werkzeug>=3.1 in c:\\users\\sarxx\\appdata\\local\\programs\\python\\python312\\lib\\site-packages (from Flask>=1.1.2->deepface) (3.1.3)\n",
            "Requirement already satisfied: Jinja2>=3.1.2 in c:\\users\\sarxx\\appdata\\local\\programs\\python\\python312\\lib\\site-packages (from Flask>=1.1.2->deepface) (3.1.6)\n",
            "Requirement already satisfied: itsdangerous>=2.2 in c:\\users\\sarxx\\appdata\\local\\programs\\python\\python312\\lib\\site-packages (from Flask>=1.1.2->deepface) (2.2.0)\n",
            "Requirement already satisfied: click>=8.1.3 in c:\\users\\sarxx\\appdata\\local\\programs\\python\\python312\\lib\\site-packages (from Flask>=1.1.2->deepface) (8.1.8)\n",
            "Requirement already satisfied: blinker>=1.9 in c:\\users\\sarxx\\appdata\\local\\programs\\python\\python312\\lib\\site-packages (from Flask>=1.1.2->deepface) (1.9.0)\n",
            "Requirement already satisfied: beautifulsoup4 in c:\\users\\sarxx\\appdata\\local\\programs\\python\\python312\\lib\\site-packages (from gdown>=3.10.1->deepface) (4.13.3)\n",
            "Requirement already satisfied: filelock in c:\\users\\sarxx\\appdata\\local\\programs\\python\\python312\\lib\\site-packages (from gdown>=3.10.1->deepface) (3.18.0)\n",
            "Requirement already satisfied: packaging in c:\\users\\sarxx\\appdata\\roaming\\python\\python312\\site-packages (from gunicorn>=20.1.0->deepface) (24.2)\n",
            "Requirement already satisfied: absl-py in c:\\users\\sarxx\\appdata\\local\\programs\\python\\python312\\lib\\site-packages (from keras>=2.2.0->deepface) (2.1.0)\n",
            "Requirement already satisfied: rich in c:\\users\\sarxx\\appdata\\local\\programs\\python\\python312\\lib\\site-packages (from keras>=2.2.0->deepface) (13.9.4)\n",
            "Requirement already satisfied: namex in c:\\users\\sarxx\\appdata\\local\\programs\\python\\python312\\lib\\site-packages (from keras>=2.2.0->deepface) (0.0.8)\n",
            "Requirement already satisfied: h5py in c:\\users\\sarxx\\appdata\\local\\programs\\python\\python312\\lib\\site-packages (from keras>=2.2.0->deepface) (3.13.0)\n",
            "Requirement already satisfied: optree in c:\\users\\sarxx\\appdata\\local\\programs\\python\\python312\\lib\\site-packages (from keras>=2.2.0->deepface) (0.14.1)\n",
            "Requirement already satisfied: ml-dtypes in c:\\users\\sarxx\\appdata\\local\\programs\\python\\python312\\lib\\site-packages (from keras>=2.2.0->deepface) (0.5.1)\n",
            "Requirement already satisfied: lz4>=4.3.3 in c:\\users\\sarxx\\appdata\\local\\programs\\python\\python312\\lib\\site-packages (from mtcnn>=0.1.0->deepface) (4.4.3)\n",
            "Requirement already satisfied: regex>=2021.8.3 in c:\\users\\sarxx\\appdata\\local\\programs\\python\\python312\\lib\\site-packages (from nltk>=3.9->textblob) (2024.11.6)\n",
            "Requirement already satisfied: llvmlite<0.45,>=0.44.0dev0 in c:\\users\\sarxx\\appdata\\local\\programs\\python\\python312\\lib\\site-packages (from numba>=0.51.0->librosa) (0.44.0)\n",
            "Requirement already satisfied: platformdirs>=2.5.0 in c:\\users\\sarxx\\appdata\\roaming\\python\\python312\\site-packages (from pooch>=1.1->librosa) (4.3.6)\n",
            "Requirement already satisfied: six>=1.5 in c:\\users\\sarxx\\appdata\\roaming\\python\\python312\\site-packages (from python-dateutil>=2.8.2->pandas) (1.17.0)\n",
            "Requirement already satisfied: charset-normalizer<4,>=2 in c:\\users\\sarxx\\appdata\\local\\programs\\python\\python312\\lib\\site-packages (from requests>=2.27.1->deepface) (3.4.1)\n",
            "Requirement already satisfied: idna<4,>=2.5 in c:\\users\\sarxx\\appdata\\local\\programs\\python\\python312\\lib\\site-packages (from requests>=2.27.1->deepface) (3.10)\n",
            "Requirement already satisfied: urllib3<3,>=1.21.1 in c:\\users\\sarxx\\appdata\\local\\programs\\python\\python312\\lib\\site-packages (from requests>=2.27.1->deepface) (2.3.0)\n",
            "Requirement already satisfied: certifi>=2017.4.17 in c:\\users\\sarxx\\appdata\\local\\programs\\python\\python312\\lib\\site-packages (from requests>=2.27.1->deepface) (2025.1.31)\n",
            "Requirement already satisfied: astunparse>=1.6.0 in c:\\users\\sarxx\\appdata\\local\\programs\\python\\python312\\lib\\site-packages (from tensorflow>=1.9.0->deepface) (1.6.3)\n",
            "Requirement already satisfied: flatbuffers>=24.3.25 in c:\\users\\sarxx\\appdata\\local\\programs\\python\\python312\\lib\\site-packages (from tensorflow>=1.9.0->deepface) (25.2.10)\n",
            "Requirement already satisfied: gast!=0.5.0,!=0.5.1,!=0.5.2,>=0.2.1 in c:\\users\\sarxx\\appdata\\local\\programs\\python\\python312\\lib\\site-packages (from tensorflow>=1.9.0->deepface) (0.6.0)\n",
            "Requirement already satisfied: google-pasta>=0.1.1 in c:\\users\\sarxx\\appdata\\local\\programs\\python\\python312\\lib\\site-packages (from tensorflow>=1.9.0->deepface) (0.2.0)\n",
            "Requirement already satisfied: libclang>=13.0.0 in c:\\users\\sarxx\\appdata\\local\\programs\\python\\python312\\lib\\site-packages (from tensorflow>=1.9.0->deepface) (18.1.1)\n",
            "Requirement already satisfied: opt-einsum>=2.3.2 in c:\\users\\sarxx\\appdata\\local\\programs\\python\\python312\\lib\\site-packages (from tensorflow>=1.9.0->deepface) (3.4.0)\n",
            "Requirement already satisfied: protobuf!=4.21.0,!=4.21.1,!=4.21.2,!=4.21.3,!=4.21.4,!=4.21.5,<6.0.0dev,>=3.20.3 in c:\\users\\sarxx\\appdata\\local\\programs\\python\\python312\\lib\\site-packages (from tensorflow>=1.9.0->deepface) (5.29.3)\n",
            "Requirement already satisfied: setuptools in c:\\users\\sarxx\\appdata\\local\\programs\\python\\python312\\lib\\site-packages (from tensorflow>=1.9.0->deepface) (76.1.0)\n",
            "Requirement already satisfied: wrapt>=1.11.0 in c:\\users\\sarxx\\appdata\\local\\programs\\python\\python312\\lib\\site-packages (from tensorflow>=1.9.0->deepface) (1.17.2)\n",
            "Requirement already satisfied: grpcio<2.0,>=1.24.3 in c:\\users\\sarxx\\appdata\\local\\programs\\python\\python312\\lib\\site-packages (from tensorflow>=1.9.0->deepface) (1.71.0)\n",
            "Requirement already satisfied: tensorboard~=2.19.0 in c:\\users\\sarxx\\appdata\\local\\programs\\python\\python312\\lib\\site-packages (from tensorflow>=1.9.0->deepface) (2.19.0)\n",
            "Requirement already satisfied: colorama in c:\\users\\sarxx\\appdata\\roaming\\python\\python312\\site-packages (from tqdm>=4.30.0->deepface) (0.4.6)\n",
            "Requirement already satisfied: wheel<1.0,>=0.23.0 in c:\\users\\sarxx\\appdata\\local\\programs\\python\\python312\\lib\\site-packages (from astunparse>=1.6.0->tensorflow>=1.9.0->deepface) (0.45.1)\n",
            "Requirement already satisfied: MarkupSafe>=2.0 in c:\\users\\sarxx\\appdata\\local\\programs\\python\\python312\\lib\\site-packages (from Jinja2>=3.1.2->Flask>=1.1.2->deepface) (3.0.2)\n",
            "Requirement already satisfied: markdown>=2.6.8 in c:\\users\\sarxx\\appdata\\local\\programs\\python\\python312\\lib\\site-packages (from tensorboard~=2.19.0->tensorflow>=1.9.0->deepface) (3.7)\n",
            "Requirement already satisfied: tensorboard-data-server<0.8.0,>=0.7.0 in c:\\users\\sarxx\\appdata\\local\\programs\\python\\python312\\lib\\site-packages (from tensorboard~=2.19.0->tensorflow>=1.9.0->deepface) (0.7.2)\n",
            "Requirement already satisfied: soupsieve>1.2 in c:\\users\\sarxx\\appdata\\local\\programs\\python\\python312\\lib\\site-packages (from beautifulsoup4->gdown>=3.10.1->deepface) (2.6)\n",
            "Requirement already satisfied: PySocks!=1.5.7,>=1.5.6 in c:\\users\\sarxx\\appdata\\local\\programs\\python\\python312\\lib\\site-packages (from requests[socks]->gdown>=3.10.1->deepface) (1.7.1)\n",
            "Requirement already satisfied: markdown-it-py>=2.2.0 in c:\\users\\sarxx\\appdata\\local\\programs\\python\\python312\\lib\\site-packages (from rich->keras>=2.2.0->deepface) (3.0.0)\n",
            "Requirement already satisfied: pygments<3.0.0,>=2.13.0 in c:\\users\\sarxx\\appdata\\roaming\\python\\python312\\site-packages (from rich->keras>=2.2.0->deepface) (2.19.1)\n",
            "Requirement already satisfied: mdurl~=0.1 in c:\\users\\sarxx\\appdata\\local\\programs\\python\\python312\\lib\\site-packages (from markdown-it-py>=2.2.0->rich->keras>=2.2.0->deepface) (0.1.2)\n",
            "Note: you may need to restart the kernel to use updated packages.\n"
          ]
        },
        {
          "name": "stderr",
          "output_type": "stream",
          "text": [
            "\n",
            "[notice] A new release of pip is available: 24.2 -> 25.0.1\n",
            "[notice] To update, run: python.exe -m pip install --upgrade pip\n"
          ]
        }
      ],
      "source": [
        "pip install textblob deepface opencv-python librosa soundfile numpy pandas scikit-learn"
      ]
    },
    {
      "cell_type": "code",
      "execution_count": 2,
      "metadata": {
        "colab": {
          "base_uri": "https://localhost:8080/"
        },
        "id": "d-JJUd5Ptjrx",
        "outputId": "6bbd4b47-293c-40b4-e6bd-e938f1044ad7"
      },
      "outputs": [
        {
          "name": "stdout",
          "output_type": "stream",
          "text": [
            "WARNING:tensorflow:From c:\\Users\\sarxx\\AppData\\Local\\Programs\\Python\\Python312\\Lib\\site-packages\\tf_keras\\src\\losses.py:2976: The name tf.losses.sparse_softmax_cross_entropy is deprecated. Please use tf.compat.v1.losses.sparse_softmax_cross_entropy instead.\n",
            "\n",
            "Text Mood: happy\n",
            "Image file not found: employee_face.jpg\n",
            "Audio file not found: employee_speech.wav\n",
            "Recommended Task: Work on a creative project or brainstorm new ideas.\n",
            "Mood History for Employee a665a45920422f9d417e4867efdc4fb8a04a1f3fff1fa07e998e86f7f7a27ae3: [('2025-03-18 18:50:24', 'happy')]\n"
          ]
        }
      ],
      "source": [
        "import cv2\n",
        "import numpy as np\n",
        "import pandas as pd\n",
        "from textblob import TextBlob\n",
        "from deepface import DeepFace\n",
        "import librosa\n",
        "import soundfile as sf\n",
        "import hashlib\n",
        "from datetime import datetime\n",
        "import os\n",
        "\n",
        "# ==============================================\n",
        "# 1. Text Sentiment Analysis\n",
        "# ==============================================\n",
        "def analyze_text_sentiment(text):\n",
        "    blob = TextBlob(text)\n",
        "    sentiment_polarity = blob.sentiment.polarity\n",
        "    if sentiment_polarity > 0:\n",
        "        return \"happy\"\n",
        "    elif sentiment_polarity < 0:\n",
        "        return \"sad\"\n",
        "    else:\n",
        "        return \"neutral\"\n",
        "\n",
        "# ==============================================\n",
        "# 2. Facial Expression Detection\n",
        "# ==============================================\n",
        "def detect_facial_emotion(image_path):\n",
        "    if not os.path.isfile(image_path):\n",
        "        raise FileNotFoundError(f\"Image file not found: {image_path}\")\n",
        "    result = DeepFace.analyze(img_path=image_path, actions=['emotion'])\n",
        "    return result[0]['dominant_emotion']\n",
        "\n",
        "# ==============================================\n",
        "# 3. Speech Emotion Recognition\n",
        "# ==============================================\n",
        "def extract_speech_features(audio_path):\n",
        "    # Load audio file\n",
        "    y, sr = librosa.load(audio_path, sr=None)\n",
        "\n",
        "    # Extract features (MFCCs)\n",
        "    mfccs = librosa.feature.mfcc(y=y, sr=sr, n_mfcc=13)\n",
        "    mfccs_mean = np.mean(mfccs.T, axis=0)\n",
        "\n",
        "    return mfccs_mean\n",
        "\n",
        "def predict_speech_emotion(audio_path, model):\n",
        "    features = extract_speech_features(audio_path)\n",
        "    emotion = model.predict([features])[0]\n",
        "    return emotion\n",
        "\n",
        "# Dummy model for speech emotion recognition (replace with a trained model)\n",
        "from sklearn.ensemble import RandomForestClassifier\n",
        "speech_model = RandomForestClassifier()\n",
        "\n",
        "# ==============================================\n",
        "# 4. Task Recommendation\n",
        "# ==============================================\n",
        "def recommend_task(emotion):\n",
        "    task_recommendations = {\n",
        "        \"happy\": \"Work on a creative project or brainstorm new ideas.\",\n",
        "        \"sad\": \"Take a short break and listen to calming music.\",\n",
        "        \"angry\": \"Step away from the desk and take a walk.\",\n",
        "        \"neutral\": \"Focus on routine tasks or organize your workspace.\",\n",
        "        \"surprise\": \"Explore a new tool or learn something new.\",\n",
        "        \"fear\": \"Review your tasks and prioritize what's most important.\",\n",
        "        \"disgust\": \"Clean your workspace or declutter your environment.\"\n",
        "    }\n",
        "    return task_recommendations.get(emotion.lower(), \"No specific recommendation.\")\n",
        "\n",
        "# ==============================================\n",
        "# 5. Historical Mood Tracking\n",
        "# ==============================================\n",
        "mood_history = {}\n",
        "\n",
        "def track_mood(employee_id, mood):\n",
        "    timestamp = datetime.now().strftime(\"%Y-%m-%d %H:%M:%S\")\n",
        "    if employee_id not in mood_history:\n",
        "        mood_history[employee_id] = []\n",
        "    mood_history[employee_id].append((timestamp, mood))\n",
        "\n",
        "# ==============================================\n",
        "# 6. Stress Management Alert\n",
        "# ==============================================\n",
        "def check_stress_level(employee_id, threshold=3):\n",
        "    if employee_id in mood_history:\n",
        "        negative_moods = [mood for (_, mood) in mood_history[employee_id] if mood in [\"sad\", \"angry\", \"fear\"]]\n",
        "        if len(negative_moods) >= threshold:\n",
        "            print(f\"Alert: Employee {employee_id} may be experiencing prolonged stress. Notify HR.\")\n",
        "\n",
        "# ==============================================\n",
        "# 7. Data Privacy and Anonymization\n",
        "# ==============================================\n",
        "def anonymize_employee_id(employee_id):\n",
        "    return hashlib.sha256(employee_id.encode()).hexdigest()\n",
        "\n",
        "# ==============================================\n",
        "# Main Function to Run the System\n",
        "# ==============================================\n",
        "def main():\n",
        "    # Example employee ID\n",
        "    employee_id = \"123\"\n",
        "    anonymized_id = anonymize_employee_id(employee_id)\n",
        "\n",
        "    # Analyze text sentiment\n",
        "    text_input = \"I feel great about the progress we're making!\"\n",
        "    text_mood = analyze_text_sentiment(text_input)\n",
        "    print(f\"Text Mood: {text_mood}\")\n",
        "    track_mood(anonymized_id, text_mood)\n",
        "\n",
        "    # Analyze facial expression\n",
        "    image_path = \"employee_face.jpg\"  # Replace with actual image path\n",
        "    try:\n",
        "        facial_mood = detect_facial_emotion(image_path)\n",
        "        print(f\"Facial Mood: {facial_mood}\")\n",
        "        track_mood(anonymized_id, facial_mood)\n",
        "    except FileNotFoundError as e:\n",
        "        print(e)\n",
        "\n",
        "    # Analyze speech emotion\n",
        "    audio_path = \"employee_speech.wav\"  # Replace with actual audio path\n",
        "    if os.path.isfile(audio_path):\n",
        "        speech_mood = predict_speech_emotion(audio_path, speech_model)\n",
        "        print(f\"Speech Mood: {speech_mood}\")\n",
        "        track_mood(anonymized_id, speech_mood)\n",
        "    else:\n",
        "        print(f\"Audio file not found: {audio_path}\")\n",
        "\n",
        "    # Recommend task based on overall mood\n",
        "    overall_mood = text_mood  # Use text mood as the overall mood for simplicity\n",
        "    task = recommend_task(overall_mood)\n",
        "    print(f\"Recommended Task: {task}\")\n",
        "\n",
        "    # Check stress level\n",
        "    check_stress_level(anonymized_id)\n",
        "\n",
        "    # Display mood history\n",
        "    print(f\"Mood History for Employee {anonymized_id}: {mood_history[anonymized_id]}\")\n",
        "\n",
        "if __name__ == \"__main__\":\n",
        "    main()"
      ]
    },
    {
      "cell_type": "code",
      "execution_count": null,
      "metadata": {
        "colab": {
          "base_uri": "https://localhost:8080/"
        },
        "id": "m3xkfJprufXj",
        "outputId": "3aa9a550-ad89-4243-ac64-acacf8dc95ff"
      },
      "outputs": [
        {
          "name": "stdout",
          "output_type": "stream",
          "text": [
            "Alert: Employee a665a45920422f9d417e4867efdc4fb8a04a1f3fff1fa07e998e86f7f7a27ae3 may be experiencing prolonged stress. Notify HR.\n",
            "Alert: Employee a665a45920422f9d417e4867efdc4fb8a04a1f3fff1fa07e998e86f7f7a27ae3 may be experiencing prolonged stress. Notify HR.\n",
            "Alert: Employee a665a45920422f9d417e4867efdc4fb8a04a1f3fff1fa07e998e86f7f7a27ae3 may be experiencing prolonged stress. Notify HR.\n",
            "Alert: Employee a665a45920422f9d417e4867efdc4fb8a04a1f3fff1fa07e998e86f7f7a27ae3 may be experiencing prolonged stress. Notify HR.\n",
            "Alert: Employee a665a45920422f9d417e4867efdc4fb8a04a1f3fff1fa07e998e86f7f7a27ae3 may be experiencing prolonged stress. Notify HR.\n",
            "Alert: Employee a665a45920422f9d417e4867efdc4fb8a04a1f3fff1fa07e998e86f7f7a27ae3 may be experiencing prolonged stress. Notify HR.\n",
            "Alert: Employee a665a45920422f9d417e4867efdc4fb8a04a1f3fff1fa07e998e86f7f7a27ae3 may be experiencing prolonged stress. Notify HR.\n",
            "Alert: Employee a665a45920422f9d417e4867efdc4fb8a04a1f3fff1fa07e998e86f7f7a27ae3 may be experiencing prolonged stress. Notify HR.\n",
            "Alert: Employee a665a45920422f9d417e4867efdc4fb8a04a1f3fff1fa07e998e86f7f7a27ae3 may be experiencing prolonged stress. Notify HR.\n",
            "Alert: Employee a665a45920422f9d417e4867efdc4fb8a04a1f3fff1fa07e998e86f7f7a27ae3 may be experiencing prolonged stress. Notify HR.\n",
            "Alert: Employee a665a45920422f9d417e4867efdc4fb8a04a1f3fff1fa07e998e86f7f7a27ae3 may be experiencing prolonged stress. Notify HR.\n",
            "Alert: Employee a665a45920422f9d417e4867efdc4fb8a04a1f3fff1fa07e998e86f7f7a27ae3 may be experiencing prolonged stress. Notify HR.\n",
            "Alert: Employee a665a45920422f9d417e4867efdc4fb8a04a1f3fff1fa07e998e86f7f7a27ae3 may be experiencing prolonged stress. Notify HR.\n",
            "Alert: Employee a665a45920422f9d417e4867efdc4fb8a04a1f3fff1fa07e998e86f7f7a27ae3 may be experiencing prolonged stress. Notify HR.\n",
            "Alert: Employee a665a45920422f9d417e4867efdc4fb8a04a1f3fff1fa07e998e86f7f7a27ae3 may be experiencing prolonged stress. Notify HR.\n",
            "Alert: Employee a665a45920422f9d417e4867efdc4fb8a04a1f3fff1fa07e998e86f7f7a27ae3 may be experiencing prolonged stress. Notify HR.\n",
            "Alert: Employee a665a45920422f9d417e4867efdc4fb8a04a1f3fff1fa07e998e86f7f7a27ae3 may be experiencing prolonged stress. Notify HR.\n",
            "Alert: Employee a665a45920422f9d417e4867efdc4fb8a04a1f3fff1fa07e998e86f7f7a27ae3 may be experiencing prolonged stress. Notify HR.\n",
            "Alert: Employee a665a45920422f9d417e4867efdc4fb8a04a1f3fff1fa07e998e86f7f7a27ae3 may be experiencing prolonged stress. Notify HR.\n",
            "Alert: Employee a665a45920422f9d417e4867efdc4fb8a04a1f3fff1fa07e998e86f7f7a27ae3 may be experiencing prolonged stress. Notify HR.\n",
            "Alert: Employee a665a45920422f9d417e4867efdc4fb8a04a1f3fff1fa07e998e86f7f7a27ae3 may be experiencing prolonged stress. Notify HR.\n",
            "Alert: Employee a665a45920422f9d417e4867efdc4fb8a04a1f3fff1fa07e998e86f7f7a27ae3 may be experiencing prolonged stress. Notify HR.\n",
            "Alert: Employee a665a45920422f9d417e4867efdc4fb8a04a1f3fff1fa07e998e86f7f7a27ae3 may be experiencing prolonged stress. Notify HR.\n",
            "Alert: Employee a665a45920422f9d417e4867efdc4fb8a04a1f3fff1fa07e998e86f7f7a27ae3 may be experiencing prolonged stress. Notify HR.\n",
            "Alert: Employee a665a45920422f9d417e4867efdc4fb8a04a1f3fff1fa07e998e86f7f7a27ae3 may be experiencing prolonged stress. Notify HR.\n",
            "Alert: Employee a665a45920422f9d417e4867efdc4fb8a04a1f3fff1fa07e998e86f7f7a27ae3 may be experiencing prolonged stress. Notify HR.\n",
            "Alert: Employee a665a45920422f9d417e4867efdc4fb8a04a1f3fff1fa07e998e86f7f7a27ae3 may be experiencing prolonged stress. Notify HR.\n",
            "Alert: Employee a665a45920422f9d417e4867efdc4fb8a04a1f3fff1fa07e998e86f7f7a27ae3 may be experiencing prolonged stress. Notify HR.\n",
            "Alert: Employee a665a45920422f9d417e4867efdc4fb8a04a1f3fff1fa07e998e86f7f7a27ae3 may be experiencing prolonged stress. Notify HR.\n",
            "Alert: Employee a665a45920422f9d417e4867efdc4fb8a04a1f3fff1fa07e998e86f7f7a27ae3 may be experiencing prolonged stress. Notify HR.\n",
            "Alert: Employee a665a45920422f9d417e4867efdc4fb8a04a1f3fff1fa07e998e86f7f7a27ae3 may be experiencing prolonged stress. Notify HR.\n",
            "Alert: Employee a665a45920422f9d417e4867efdc4fb8a04a1f3fff1fa07e998e86f7f7a27ae3 may be experiencing prolonged stress. Notify HR.\n",
            "Alert: Employee a665a45920422f9d417e4867efdc4fb8a04a1f3fff1fa07e998e86f7f7a27ae3 may be experiencing prolonged stress. Notify HR.\n",
            "Alert: Employee a665a45920422f9d417e4867efdc4fb8a04a1f3fff1fa07e998e86f7f7a27ae3 may be experiencing prolonged stress. Notify HR.\n",
            "Alert: Employee a665a45920422f9d417e4867efdc4fb8a04a1f3fff1fa07e998e86f7f7a27ae3 may be experiencing prolonged stress. Notify HR.\n",
            "Alert: Employee a665a45920422f9d417e4867efdc4fb8a04a1f3fff1fa07e998e86f7f7a27ae3 may be experiencing prolonged stress. Notify HR.\n",
            "Alert: Employee a665a45920422f9d417e4867efdc4fb8a04a1f3fff1fa07e998e86f7f7a27ae3 may be experiencing prolonged stress. Notify HR.\n",
            "Alert: Employee a665a45920422f9d417e4867efdc4fb8a04a1f3fff1fa07e998e86f7f7a27ae3 may be experiencing prolonged stress. Notify HR.\n",
            "Alert: Employee a665a45920422f9d417e4867efdc4fb8a04a1f3fff1fa07e998e86f7f7a27ae3 may be experiencing prolonged stress. Notify HR.\n",
            "Alert: Employee a665a45920422f9d417e4867efdc4fb8a04a1f3fff1fa07e998e86f7f7a27ae3 may be experiencing prolonged stress. Notify HR.\n",
            "Alert: Employee a665a45920422f9d417e4867efdc4fb8a04a1f3fff1fa07e998e86f7f7a27ae3 may be experiencing prolonged stress. Notify HR.\n",
            "Alert: Employee a665a45920422f9d417e4867efdc4fb8a04a1f3fff1fa07e998e86f7f7a27ae3 may be experiencing prolonged stress. Notify HR.\n",
            "Alert: Employee a665a45920422f9d417e4867efdc4fb8a04a1f3fff1fa07e998e86f7f7a27ae3 may be experiencing prolonged stress. Notify HR.\n",
            "Alert: Employee a665a45920422f9d417e4867efdc4fb8a04a1f3fff1fa07e998e86f7f7a27ae3 may be experiencing prolonged stress. Notify HR.\n",
            "Alert: Employee a665a45920422f9d417e4867efdc4fb8a04a1f3fff1fa07e998e86f7f7a27ae3 may be experiencing prolonged stress. Notify HR.\n",
            "Alert: Employee a665a45920422f9d417e4867efdc4fb8a04a1f3fff1fa07e998e86f7f7a27ae3 may be experiencing prolonged stress. Notify HR.\n",
            "Alert: Employee a665a45920422f9d417e4867efdc4fb8a04a1f3fff1fa07e998e86f7f7a27ae3 may be experiencing prolonged stress. Notify HR.\n",
            "Alert: Employee a665a45920422f9d417e4867efdc4fb8a04a1f3fff1fa07e998e86f7f7a27ae3 may be experiencing prolonged stress. Notify HR.\n",
            "Alert: Employee a665a45920422f9d417e4867efdc4fb8a04a1f3fff1fa07e998e86f7f7a27ae3 may be experiencing prolonged stress. Notify HR.\n",
            "Alert: Employee a665a45920422f9d417e4867efdc4fb8a04a1f3fff1fa07e998e86f7f7a27ae3 may be experiencing prolonged stress. Notify HR.\n",
            "Alert: Employee a665a45920422f9d417e4867efdc4fb8a04a1f3fff1fa07e998e86f7f7a27ae3 may be experiencing prolonged stress. Notify HR.\n",
            "Alert: Employee a665a45920422f9d417e4867efdc4fb8a04a1f3fff1fa07e998e86f7f7a27ae3 may be experiencing prolonged stress. Notify HR.\n",
            "Alert: Employee a665a45920422f9d417e4867efdc4fb8a04a1f3fff1fa07e998e86f7f7a27ae3 may be experiencing prolonged stress. Notify HR.\n",
            "Alert: Employee a665a45920422f9d417e4867efdc4fb8a04a1f3fff1fa07e998e86f7f7a27ae3 may be experiencing prolonged stress. Notify HR.\n",
            "Alert: Employee a665a45920422f9d417e4867efdc4fb8a04a1f3fff1fa07e998e86f7f7a27ae3 may be experiencing prolonged stress. Notify HR.\n",
            "Alert: Employee a665a45920422f9d417e4867efdc4fb8a04a1f3fff1fa07e998e86f7f7a27ae3 may be experiencing prolonged stress. Notify HR.\n",
            "Alert: Employee a665a45920422f9d417e4867efdc4fb8a04a1f3fff1fa07e998e86f7f7a27ae3 may be experiencing prolonged stress. Notify HR.\n",
            "Alert: Employee a665a45920422f9d417e4867efdc4fb8a04a1f3fff1fa07e998e86f7f7a27ae3 may be experiencing prolonged stress. Notify HR.\n",
            "Alert: Employee a665a45920422f9d417e4867efdc4fb8a04a1f3fff1fa07e998e86f7f7a27ae3 may be experiencing prolonged stress. Notify HR.\n",
            "Alert: Employee a665a45920422f9d417e4867efdc4fb8a04a1f3fff1fa07e998e86f7f7a27ae3 may be experiencing prolonged stress. Notify HR.\n",
            "Alert: Employee a665a45920422f9d417e4867efdc4fb8a04a1f3fff1fa07e998e86f7f7a27ae3 may be experiencing prolonged stress. Notify HR.\n",
            "Alert: Employee a665a45920422f9d417e4867efdc4fb8a04a1f3fff1fa07e998e86f7f7a27ae3 may be experiencing prolonged stress. Notify HR.\n",
            "Alert: Employee a665a45920422f9d417e4867efdc4fb8a04a1f3fff1fa07e998e86f7f7a27ae3 may be experiencing prolonged stress. Notify HR.\n",
            "Alert: Employee a665a45920422f9d417e4867efdc4fb8a04a1f3fff1fa07e998e86f7f7a27ae3 may be experiencing prolonged stress. Notify HR.\n",
            "Alert: Employee a665a45920422f9d417e4867efdc4fb8a04a1f3fff1fa07e998e86f7f7a27ae3 may be experiencing prolonged stress. Notify HR.\n",
            "Alert: Employee a665a45920422f9d417e4867efdc4fb8a04a1f3fff1fa07e998e86f7f7a27ae3 may be experiencing prolonged stress. Notify HR.\n",
            "Alert: Employee a665a45920422f9d417e4867efdc4fb8a04a1f3fff1fa07e998e86f7f7a27ae3 may be experiencing prolonged stress. Notify HR.\n",
            "Alert: Employee a665a45920422f9d417e4867efdc4fb8a04a1f3fff1fa07e998e86f7f7a27ae3 may be experiencing prolonged stress. Notify HR.\n",
            "Alert: Employee a665a45920422f9d417e4867efdc4fb8a04a1f3fff1fa07e998e86f7f7a27ae3 may be experiencing prolonged stress. Notify HR.\n",
            "Alert: Employee a665a45920422f9d417e4867efdc4fb8a04a1f3fff1fa07e998e86f7f7a27ae3 may be experiencing prolonged stress. Notify HR.\n",
            "Alert: Employee a665a45920422f9d417e4867efdc4fb8a04a1f3fff1fa07e998e86f7f7a27ae3 may be experiencing prolonged stress. Notify HR.\n",
            "Alert: Employee a665a45920422f9d417e4867efdc4fb8a04a1f3fff1fa07e998e86f7f7a27ae3 may be experiencing prolonged stress. Notify HR.\n",
            "Alert: Employee a665a45920422f9d417e4867efdc4fb8a04a1f3fff1fa07e998e86f7f7a27ae3 may be experiencing prolonged stress. Notify HR.\n",
            "Alert: Employee a665a45920422f9d417e4867efdc4fb8a04a1f3fff1fa07e998e86f7f7a27ae3 may be experiencing prolonged stress. Notify HR.\n",
            "Alert: Employee a665a45920422f9d417e4867efdc4fb8a04a1f3fff1fa07e998e86f7f7a27ae3 may be experiencing prolonged stress. Notify HR.\n",
            "Alert: Employee a665a45920422f9d417e4867efdc4fb8a04a1f3fff1fa07e998e86f7f7a27ae3 may be experiencing prolonged stress. Notify HR.\n",
            "Alert: Employee a665a45920422f9d417e4867efdc4fb8a04a1f3fff1fa07e998e86f7f7a27ae3 may be experiencing prolonged stress. Notify HR.\n",
            "Alert: Employee a665a45920422f9d417e4867efdc4fb8a04a1f3fff1fa07e998e86f7f7a27ae3 may be experiencing prolonged stress. Notify HR.\n",
            "Alert: Employee a665a45920422f9d417e4867efdc4fb8a04a1f3fff1fa07e998e86f7f7a27ae3 may be experiencing prolonged stress. Notify HR.\n",
            "Alert: Employee a665a45920422f9d417e4867efdc4fb8a04a1f3fff1fa07e998e86f7f7a27ae3 may be experiencing prolonged stress. Notify HR.\n",
            "Alert: Employee a665a45920422f9d417e4867efdc4fb8a04a1f3fff1fa07e998e86f7f7a27ae3 may be experiencing prolonged stress. Notify HR.\n",
            "Alert: Employee a665a45920422f9d417e4867efdc4fb8a04a1f3fff1fa07e998e86f7f7a27ae3 may be experiencing prolonged stress. Notify HR.\n",
            "Alert: Employee a665a45920422f9d417e4867efdc4fb8a04a1f3fff1fa07e998e86f7f7a27ae3 may be experiencing prolonged stress. Notify HR.\n",
            "Alert: Employee a665a45920422f9d417e4867efdc4fb8a04a1f3fff1fa07e998e86f7f7a27ae3 may be experiencing prolonged stress. Notify HR.\n",
            "Alert: Employee a665a45920422f9d417e4867efdc4fb8a04a1f3fff1fa07e998e86f7f7a27ae3 may be experiencing prolonged stress. Notify HR.\n",
            "Alert: Employee a665a45920422f9d417e4867efdc4fb8a04a1f3fff1fa07e998e86f7f7a27ae3 may be experiencing prolonged stress. Notify HR.\n",
            "Alert: Employee a665a45920422f9d417e4867efdc4fb8a04a1f3fff1fa07e998e86f7f7a27ae3 may be experiencing prolonged stress. Notify HR.\n",
            "Alert: Employee a665a45920422f9d417e4867efdc4fb8a04a1f3fff1fa07e998e86f7f7a27ae3 may be experiencing prolonged stress. Notify HR.\n",
            "Alert: Employee a665a45920422f9d417e4867efdc4fb8a04a1f3fff1fa07e998e86f7f7a27ae3 may be experiencing prolonged stress. Notify HR.\n",
            "Alert: Employee a665a45920422f9d417e4867efdc4fb8a04a1f3fff1fa07e998e86f7f7a27ae3 may be experiencing prolonged stress. Notify HR.\n",
            "Alert: Employee a665a45920422f9d417e4867efdc4fb8a04a1f3fff1fa07e998e86f7f7a27ae3 may be experiencing prolonged stress. Notify HR.\n",
            "Alert: Employee a665a45920422f9d417e4867efdc4fb8a04a1f3fff1fa07e998e86f7f7a27ae3 may be experiencing prolonged stress. Notify HR.\n",
            "Alert: Employee a665a45920422f9d417e4867efdc4fb8a04a1f3fff1fa07e998e86f7f7a27ae3 may be experiencing prolonged stress. Notify HR.\n"
          ]
        }
      ],
      "source": [
        "import cv2\n",
        "import numpy as np\n",
        "import pandas as pd\n",
        "from deepface import DeepFace\n",
        "from datetime import datetime\n",
        "import hashlib\n",
        "\n",
        "# ==============================================\n",
        "# 1. Task Recommendation\n",
        "# ==============================================\n",
        "def recommend_task(emotion):\n",
        "    task_recommendations = {\n",
        "        \"happy\": \"Work on a creative project or brainstorm new ideas.\",\n",
        "        \"sad\": \"Take a short break and listen to calming music.\",\n",
        "        \"angry\": \"Step away from the desk and take a walk.\",\n",
        "        \"neutral\": \"Focus on routine tasks or organize your workspace.\",\n",
        "        \"surprise\": \"Explore a new tool or learn something new.\",\n",
        "        \"fear\": \"Review your tasks and prioritize what's most important.\",\n",
        "        \"disgust\": \"Clean your workspace or declutter your environment.\"\n",
        "    }\n",
        "    return task_recommendations.get(emotion.lower(), \"No specific recommendation.\")\n",
        "\n",
        "# ==============================================\n",
        "# 2. Historical Mood Tracking\n",
        "# ==============================================\n",
        "mood_history = {}\n",
        "\n",
        "def track_mood(employee_id, mood):\n",
        "    timestamp = datetime.now().strftime(\"%Y-%m-%d %H:%M:%S\")\n",
        "    if employee_id not in mood_history:\n",
        "        mood_history[employee_id] = []\n",
        "    mood_history[employee_id].append((timestamp, mood))\n",
        "\n",
        "# ==============================================\n",
        "# 3. Stress Management Alert\n",
        "# ==============================================\n",
        "def check_stress_level(employee_id, threshold=3):\n",
        "    if employee_id in mood_history:\n",
        "        negative_moods = [mood for (_, mood) in mood_history[employee_id] if mood in [\"sad\", \"angry\", \"fear\"]]\n",
        "        if len(negative_moods) >= threshold:\n",
        "            print(f\"Alert: Employee {employee_id} may be experiencing prolonged stress. Notify HR.\")\n",
        "\n",
        "# ==============================================\n",
        "# 4. Data Privacy and Anonymization\n",
        "# ==============================================\n",
        "def anonymize_employee_id(employee_id):\n",
        "    return hashlib.sha256(employee_id.encode()).hexdigest()\n",
        "\n",
        "# ==============================================\n",
        "# 5. Real-Time Emotion Detection Using Webcam\n",
        "# ==============================================\n",
        "def real_time_emotion_detection(employee_id):\n",
        "    # Initialize webcam\n",
        "    cap = cv2.VideoCapture(0)\n",
        "\n",
        "    if not cap.isOpened():\n",
        "        print(\"Error: Could not open webcam.\")\n",
        "        return\n",
        "\n",
        "    while True:\n",
        "        # Capture frame-by-frame\n",
        "        ret, frame = cap.read()\n",
        "        if not ret:\n",
        "            print(\"Error: Could not read frame.\")\n",
        "            break\n",
        "\n",
        "        # Save the frame as a temporary image\n",
        "        temp_image_path = \"temp_frame.jpg\"\n",
        "        cv2.imwrite(temp_image_path, frame)\n",
        "\n",
        "        try:\n",
        "            # Analyze the frame for emotions\n",
        "            result = DeepFace.analyze(img_path=temp_image_path, actions=['emotion'], enforce_detection=False)\n",
        "            dominant_emotion = result[0]['dominant_emotion']\n",
        "\n",
        "            # Display the emotion on the frame\n",
        "            cv2.putText(frame, f\"Emotion: {dominant_emotion}\", (10, 50), cv2.FONT_HERSHEY_SIMPLEX, 1, (0, 255, 0), 2)\n",
        "\n",
        "            # Track mood\n",
        "            track_mood(employee_id, dominant_emotion)\n",
        "\n",
        "            # Recommend task\n",
        "            task = recommend_task(dominant_emotion)\n",
        "            cv2.putText(frame, f\"Task: {task}\", (10, 100), cv2.FONT_HERSHEY_SIMPLEX, 0.9, (0, 255, 0), 2)\n",
        "\n",
        "            # Check stress level\n",
        "            check_stress_level(employee_id)\n",
        "\n",
        "        except Exception as e:\n",
        "            print(f\"Error during emotion detection: {e}\")\n",
        "\n",
        "        # Display the frame\n",
        "        cv2.imshow(\"Real-Time Emotion Detection\", frame)\n",
        "\n",
        "        # Break the loop on 'q' key press\n",
        "        if cv2.waitKey(1) & 0xFF == ord('q'):\n",
        "            break\n",
        "\n",
        "    # Release the webcam and close windows\n",
        "    cap.release()\n",
        "    cv2.destroyAllWindows()\n",
        "\n",
        "# ==============================================\n",
        "# Main Function to Run the System\n",
        "# ==============================================\n",
        "def main():\n",
        "    # Example employee ID\n",
        "    employee_id = \"123\"\n",
        "    anonymized_id = anonymize_employee_id(employee_id)\n",
        "\n",
        "    # Start real-time emotion detection\n",
        "    real_time_emotion_detection(anonymized_id)\n",
        "\n",
        "    # Display mood history (if any)\n",
        "    if anonymized_id in mood_history:\n",
        "        print(f\"Mood History for Employee {anonymized_id}: {mood_history[anonymized_id]}\")\n",
        "    else:\n",
        "        print(f\"No mood data recorded for Employee {anonymized_id}.\")\n",
        "\n",
        "if __name__ == \"__main__\":\n",
        "    main()"
      ]
    },
    {
      "cell_type": "code",
      "execution_count": 2,
      "metadata": {
        "id": "eYDxqeO-vsYK"
      },
      "outputs": [
        {
          "name": "stderr",
          "output_type": "stream",
          "text": [
            "2025-03-18 19:37:11,837 - WARNING - Stress alert for employee 96326eab3dabc98fdbf8c35dbc1f17e73ae4be5f5bb6c4f999500557487d844f44ee41a78a2ca13c71ec50df3ab9d3d374e9c558375393392e8f2c1296f51d67\n"
          ]
        },
        {
          "ename": "KeyboardInterrupt",
          "evalue": "",
          "output_type": "error",
          "traceback": [
            "\u001b[31m---------------------------------------------------------------------------\u001b[39m",
            "\u001b[31mKeyboardInterrupt\u001b[39m                         Traceback (most recent call last)",
            "\u001b[36mCell\u001b[39m\u001b[36m \u001b[39m\u001b[32mIn[2]\u001b[39m\u001b[32m, line 199\u001b[39m\n\u001b[32m    197\u001b[39m \u001b[38;5;28;01mif\u001b[39;00m \u001b[34m__name__\u001b[39m == \u001b[33m\"\u001b[39m\u001b[33m__main__\u001b[39m\u001b[33m\"\u001b[39m:\n\u001b[32m    198\u001b[39m     detector = EmotionDetector()\n\u001b[32m--> \u001b[39m\u001b[32m199\u001b[39m     \u001b[43mdetector\u001b[49m\u001b[43m.\u001b[49m\u001b[43mrun\u001b[49m\u001b[43m(\u001b[49m\u001b[33;43m\"\u001b[39;49m\u001b[33;43memployee_123\u001b[39;49m\u001b[33;43m\"\u001b[39;49m\u001b[43m)\u001b[49m\n",
            "\u001b[36mCell\u001b[39m\u001b[36m \u001b[39m\u001b[32mIn[2]\u001b[39m\u001b[32m, line 187\u001b[39m, in \u001b[36mEmotionDetector.run\u001b[39m\u001b[34m(self, employee_id)\u001b[39m\n\u001b[32m    184\u001b[39m     logging.warning(\u001b[33m\"\u001b[39m\u001b[33mFrame capture failed\u001b[39m\u001b[33m\"\u001b[39m)\n\u001b[32m    185\u001b[39m     \u001b[38;5;28;01mcontinue\u001b[39;00m\n\u001b[32m--> \u001b[39m\u001b[32m187\u001b[39m \u001b[38;5;28;43mself\u001b[39;49m\u001b[43m.\u001b[49m\u001b[43mprocess_frame\u001b[49m\u001b[43m(\u001b[49m\u001b[43mframe\u001b[49m\u001b[43m,\u001b[49m\u001b[43m \u001b[49m\u001b[43memployee_hash\u001b[49m\u001b[43m)\u001b[49m\n\u001b[32m    188\u001b[39m cv2.imshow(\u001b[33m\"\u001b[39m\u001b[33mEmotion Detection\u001b[39m\u001b[33m\"\u001b[39m, frame)\n\u001b[32m    190\u001b[39m \u001b[38;5;28;01mif\u001b[39;00m cv2.waitKey(\u001b[32m1\u001b[39m) & \u001b[32m0xFF\u001b[39m == \u001b[38;5;28mord\u001b[39m(\u001b[33m'\u001b[39m\u001b[33mq\u001b[39m\u001b[33m'\u001b[39m):\n",
            "\u001b[36mCell\u001b[39m\u001b[36m \u001b[39m\u001b[32mIn[2]\u001b[39m\u001b[32m, line 153\u001b[39m, in \u001b[36mEmotionDetector.process_frame\u001b[39m\u001b[34m(self, frame, employee_hash)\u001b[39m\n\u001b[32m    151\u001b[39m \u001b[38;5;250m\u001b[39m\u001b[33;03m\"\"\"Process video frame for emotion detection\"\"\"\u001b[39;00m\n\u001b[32m    152\u001b[39m \u001b[38;5;28;01mtry\u001b[39;00m:\n\u001b[32m--> \u001b[39m\u001b[32m153\u001b[39m     emotion = \u001b[38;5;28;43mself\u001b[39;49m\u001b[43m.\u001b[49m\u001b[43manalyzer\u001b[49m\u001b[43m.\u001b[49m\u001b[43manalyze_face\u001b[49m\u001b[43m(\u001b[49m\u001b[43mframe\u001b[49m\u001b[43m)\u001b[49m\n\u001b[32m    154\u001b[39m     \u001b[38;5;28mself\u001b[39m.data_manager.store_mood(employee_hash, emotion, \u001b[33m\"\u001b[39m\u001b[33mvisual\u001b[39m\u001b[33m\"\u001b[39m)\n\u001b[32m    155\u001b[39m     task = \u001b[38;5;28mself\u001b[39m.recommender.get_recommendation(emotion)\n",
            "\u001b[36mCell\u001b[39m\u001b[36m \u001b[39m\u001b[32mIn[2]\u001b[39m\u001b[32m, line 22\u001b[39m, in \u001b[36mEmotionAnalyzer.analyze_face\u001b[39m\u001b[34m(frame)\u001b[39m\n\u001b[32m     20\u001b[39m \u001b[38;5;28;01mtry\u001b[39;00m:\n\u001b[32m     21\u001b[39m     temp_path = \u001b[33m\"\u001b[39m\u001b[33mtemp_frame.jpg\u001b[39m\u001b[33m\"\u001b[39m\n\u001b[32m---> \u001b[39m\u001b[32m22\u001b[39m     \u001b[43mcv2\u001b[49m\u001b[43m.\u001b[49m\u001b[43mimwrite\u001b[49m\u001b[43m(\u001b[49m\u001b[43mtemp_path\u001b[49m\u001b[43m,\u001b[49m\u001b[43m \u001b[49m\u001b[43mframe\u001b[49m\u001b[43m)\u001b[49m\n\u001b[32m     23\u001b[39m     result = DeepFace.analyze(img_path=temp_path, \n\u001b[32m     24\u001b[39m                             actions=[\u001b[33m'\u001b[39m\u001b[33memotion\u001b[39m\u001b[33m'\u001b[39m], \n\u001b[32m     25\u001b[39m                             enforce_detection=\u001b[38;5;28;01mFalse\u001b[39;00m)\n\u001b[32m     26\u001b[39m     \u001b[38;5;28;01mreturn\u001b[39;00m result[\u001b[32m0\u001b[39m][\u001b[33m'\u001b[39m\u001b[33mdominant_emotion\u001b[39m\u001b[33m'\u001b[39m]\n",
            "\u001b[31mKeyboardInterrupt\u001b[39m: "
          ]
        }
      ],
      "source": [
        "import cv2\n",
        "import numpy as np\n",
        "import sqlite3\n",
        "import logging\n",
        "from typing import Dict, List, Tuple, Optional\n",
        "from concurrent.futures import ThreadPoolExecutor\n",
        "import hashlib\n",
        "from datetime import datetime\n",
        "\n",
        "# Configure logging\n",
        "logging.basicConfig(level=logging.INFO,\n",
        "                    format='%(asctime)s - %(levelname)s - %(message)s')\n",
        "\n",
        "class EmotionAnalyzer:\n",
        "    \"\"\"Class for handling multi-modal emotion analysis\"\"\"\n",
        "    \n",
        "    @staticmethod\n",
        "    def analyze_face(frame: np.ndarray) -> str:\n",
        "        \"\"\"Analyze facial emotions from video frame\"\"\"\n",
        "        try:\n",
        "            temp_path = \"temp_frame.jpg\"\n",
        "            cv2.imwrite(temp_path, frame)\n",
        "            result = DeepFace.analyze(img_path=temp_path, \n",
        "                                    actions=['emotion'], \n",
        "                                    enforce_detection=False)\n",
        "            return result[0]['dominant_emotion']\n",
        "        except Exception as e:\n",
        "            logging.error(f\"Face analysis error: {e}\")\n",
        "            return \"unknown\"\n",
        "\n",
        "class DataManager:\n",
        "    \"\"\"Class for handling data storage and privacy\"\"\"\n",
        "    \n",
        "    def __init__(self):\n",
        "        self.conn = sqlite3.connect('mood_data.db', check_same_thread=False)\n",
        "        self._init_db()\n",
        "        \n",
        "    def _init_db(self):\n",
        "        \"\"\"Initialize database tables\"\"\"\n",
        "        with self.conn:\n",
        "            self.conn.execute('''\n",
        "                CREATE TABLE IF NOT EXISTS mood_history (\n",
        "                    id INTEGER PRIMARY KEY AUTOINCREMENT,\n",
        "                    employee_hash TEXT NOT NULL,\n",
        "                    timestamp DATETIME NOT NULL,\n",
        "                    mood TEXT NOT NULL,\n",
        "                    source TEXT NOT NULL\n",
        "                )\n",
        "            ''')\n",
        "            \n",
        "    def store_mood(self, employee_hash: str, mood: str, source: str):\n",
        "        \"\"\"Store mood data in database\"\"\"\n",
        "        try:\n",
        "            timestamp = datetime.now().strftime(\"%Y-%m-%d %H:%M:%S\")\n",
        "            with self.conn:\n",
        "                self.conn.execute('''\n",
        "                    INSERT INTO mood_history \n",
        "                    (employee_hash, timestamp, mood, source)\n",
        "                    VALUES (?, ?, ?, ?)\n",
        "                ''', (employee_hash, timestamp, mood, source))\n",
        "        except Exception as e:\n",
        "            logging.error(f\"Database error: {e}\")\n",
        "\n",
        "    def get_mood_history(self, employee_hash: str) -> List[Tuple]:\n",
        "        \"\"\"Retrieve mood history for an employee\"\"\"\n",
        "        try:\n",
        "            cursor = self.conn.cursor()\n",
        "            cursor.execute('''\n",
        "                SELECT timestamp, mood, source \n",
        "                FROM mood_history \n",
        "                WHERE employee_hash = ?\n",
        "                ORDER BY timestamp DESC\n",
        "            ''', (employee_hash,))\n",
        "            return cursor.fetchall()\n",
        "        except Exception as e:\n",
        "            logging.error(f\"Database error: {e}\")\n",
        "            return []\n",
        "\n",
        "class TaskRecommender:\n",
        "    \"\"\"Class for managing task recommendations\"\"\"\n",
        "    \n",
        "    def __init__(self):\n",
        "        self.recommendations = {\n",
        "            \"happy\": [\n",
        "                \"Work on creative projects\",\n",
        "                \"Collaborate with teammates\",\n",
        "                \"Take on challenging tasks\"\n",
        "            ],\n",
        "            \"sad\": [\n",
        "                \"Take a short break\",\n",
        "                \"Listen to calming music\",\n",
        "                \"Write in a journal\"\n",
        "            ],\n",
        "            # Add other emotions...\n",
        "        }\n",
        "        \n",
        "    def get_recommendation(self, emotion: str) -> str:\n",
        "        \"\"\"Get a random task recommendation based on mood\"\"\"\n",
        "        return np.random.choice(\n",
        "            self.recommendations.get(\n",
        "                emotion.lower(), \n",
        "                [\"Continue with current tasks\"]\n",
        "            )\n",
        "        )\n",
        "\n",
        "class StressMonitor:\n",
        "    \"\"\"Class for stress detection and alerts\"\"\"\n",
        "    \n",
        "    def __init__(self, data_manager: DataManager):\n",
        "        self.data_manager = data_manager\n",
        "        self.threshold = 3\n",
        "        self.alert_history = set()\n",
        "        \n",
        "    def check_stress(self, employee_hash: str):\n",
        "        \"\"\"Check for stress patterns and trigger alerts\"\"\"\n",
        "        try:\n",
        "            history = self.data_manager.get_mood_history(employee_hash)\n",
        "            negative_count = sum(1 for entry in history \n",
        "                               if entry[1] in [\"sad\", \"angry\", \"fear\"])\n",
        "            \n",
        "            if negative_count >= self.threshold and employee_hash not in self.alert_history:\n",
        "                self._send_alert(employee_hash)\n",
        "                self.alert_history.add(employee_hash)\n",
        "        except Exception as e:\n",
        "            logging.error(f\"Stress check error: {e}\")\n",
        "            \n",
        "    def _send_alert(self, employee_hash: str):\n",
        "        \"\"\"Handle stress alert notifications\"\"\"\n",
        "        logging.warning(f\"Stress alert for employee {employee_hash}\")\n",
        "        # Implement actual notification system here (email, Slack, etc.)\n",
        "\n",
        "class EmotionDetector:\n",
        "    \"\"\"Main class for real-time emotion detection\"\"\"\n",
        "    \n",
        "    def __init__(self):\n",
        "        self.data_manager = DataManager()\n",
        "        self.analyzer = EmotionAnalyzer()\n",
        "        self.recommender = TaskRecommender()\n",
        "        self.stress_monitor = StressMonitor(self.data_manager)\n",
        "        self.executor = ThreadPoolExecutor(max_workers=4)\n",
        "        \n",
        "    def anonymize_id(self, employee_id: str) -> str:\n",
        "        \"\"\"Anonymize employee ID with salt\"\"\"\n",
        "        salt = b\"secure_salt\"  # 11 bytes (must be <= 16 bytes)\n",
        "        return hashlib.blake2b(\n",
        "            employee_id.encode(), \n",
        "            salt=salt\n",
        "        ).hexdigest()\n",
        "        \n",
        "    def process_frame(self, frame: np.ndarray, employee_hash: str):\n",
        "        \"\"\"Process video frame for emotion detection\"\"\"\n",
        "        try:\n",
        "            emotion = self.analyzer.analyze_face(frame)\n",
        "            self.data_manager.store_mood(employee_hash, emotion, \"visual\")\n",
        "            task = self.recommender.get_recommendation(emotion)\n",
        "            \n",
        "            # Add overlay to frame\n",
        "            cv2.putText(frame, f\"Mood: {emotion}\", (10, 30),\n",
        "                        cv2.FONT_HERSHEY_SIMPLEX, 0.7, (0, 255, 0), 2)\n",
        "            cv2.putText(frame, f\"Task: {task}\", (10, 60),\n",
        "                        cv2.FONT_HERSHEY_SIMPLEX, 0.7, (0, 255, 0), 2)\n",
        "            \n",
        "            # Async stress check\n",
        "            self.executor.submit(\n",
        "                self.stress_monitor.check_stress,\n",
        "                employee_hash\n",
        "            )\n",
        "        except Exception as e:\n",
        "            logging.error(f\"Frame processing error: {e}\")\n",
        "            \n",
        "    def run(self, employee_id: str):\n",
        "        \"\"\"Main execution method\"\"\"\n",
        "        employee_hash = self.anonymize_id(employee_id)\n",
        "        cap = cv2.VideoCapture(0)\n",
        "        \n",
        "        if not cap.isOpened():\n",
        "            logging.error(\"Failed to open webcam\")\n",
        "            return\n",
        "            \n",
        "        try:\n",
        "            while True:\n",
        "                ret, frame = cap.read()\n",
        "                if not ret:\n",
        "                    logging.warning(\"Frame capture failed\")\n",
        "                    continue\n",
        "                    \n",
        "                self.process_frame(frame, employee_hash)\n",
        "                cv2.imshow(\"Emotion Detection\", frame)\n",
        "                \n",
        "                if cv2.waitKey(1) & 0xFF == ord('q'):\n",
        "                    break\n",
        "        finally:\n",
        "            cap.release()\n",
        "            cv2.destroyAllWindows()\n",
        "            self.executor.shutdown()\n",
        "\n",
        "if __name__ == \"__main__\":\n",
        "    detector = EmotionDetector()\n",
        "    detector.run(\"employee_123\")"
      ]
    },
    {
      "cell_type": "code",
      "execution_count": 4,
      "metadata": {
        "colab": {
          "base_uri": "https://localhost:8080/"
        },
        "id": "QjxmvCMHvxGI",
        "outputId": "3ef14be9-b8a1-4417-eb40-3b5cc60e1897"
      },
      "outputs": [
        {
          "name": "stderr",
          "output_type": "stream",
          "text": [
            "2025-03-18 19:44:21,722 - WARNING - Stress alert for employee 96326eab3dabc98fdbf8c35dbc1f17e73ae4be5f5bb6c4f999500557487d844f44ee41a78a2ca13c71ec50df3ab9d3d374e9c558375393392e8f2c1296f51d67\n"
          ]
        },
        {
          "ename": "KeyboardInterrupt",
          "evalue": "",
          "output_type": "error",
          "traceback": [
            "\u001b[31m---------------------------------------------------------------------------\u001b[39m",
            "\u001b[31mKeyboardInterrupt\u001b[39m                         Traceback (most recent call last)",
            "\u001b[36mCell\u001b[39m\u001b[36m \u001b[39m\u001b[32mIn[4]\u001b[39m\u001b[32m, line 242\u001b[39m\n\u001b[32m    239\u001b[39m detector.data_manager.add_team_member(team_id, detector.anonymize_id(\u001b[33m\"\u001b[39m\u001b[33memployee_123\u001b[39m\u001b[33m\"\u001b[39m))\n\u001b[32m    241\u001b[39m \u001b[38;5;66;03m# Run emotion detection\u001b[39;00m\n\u001b[32m--> \u001b[39m\u001b[32m242\u001b[39m \u001b[43mdetector\u001b[49m\u001b[43m.\u001b[49m\u001b[43mrun\u001b[49m\u001b[43m(\u001b[49m\u001b[33;43m\"\u001b[39;49m\u001b[33;43memployee_123\u001b[39;49m\u001b[33;43m\"\u001b[39;49m\u001b[43m)\u001b[49m\n\u001b[32m    244\u001b[39m \u001b[38;5;66;03m# Analyze team mood trends\u001b[39;00m\n\u001b[32m    245\u001b[39m team_analytics = TeamAnalytics(detector.data_manager)\n",
            "\u001b[36mCell\u001b[39m\u001b[36m \u001b[39m\u001b[32mIn[4]\u001b[39m\u001b[32m, line 227\u001b[39m, in \u001b[36mEmotionDetector.run\u001b[39m\u001b[34m(self, employee_id)\u001b[39m\n\u001b[32m    224\u001b[39m         \u001b[38;5;28mself\u001b[39m.process_frame(frame, employee_hash)\n\u001b[32m    225\u001b[39m         cv2.imshow(\u001b[33m\"\u001b[39m\u001b[33mEmotion Detection\u001b[39m\u001b[33m\"\u001b[39m, frame)\n\u001b[32m--> \u001b[39m\u001b[32m227\u001b[39m         \u001b[38;5;28;01mif\u001b[39;00m \u001b[43mcv2\u001b[49m\u001b[43m.\u001b[49m\u001b[43mwaitKey\u001b[49m\u001b[43m(\u001b[49m\u001b[32;43m1\u001b[39;49m\u001b[43m)\u001b[49m & \u001b[32m0xFF\u001b[39m == \u001b[38;5;28mord\u001b[39m(\u001b[33m'\u001b[39m\u001b[33mq\u001b[39m\u001b[33m'\u001b[39m):\n\u001b[32m    228\u001b[39m             \u001b[38;5;28;01mbreak\u001b[39;00m\n\u001b[32m    229\u001b[39m \u001b[38;5;28;01mfinally\u001b[39;00m:\n",
            "\u001b[31mKeyboardInterrupt\u001b[39m: "
          ]
        }
      ],
      "source": [
        "import cv2\n",
        "import numpy as np\n",
        "import sqlite3\n",
        "import logging\n",
        "from typing import Dict, List, Tuple, Optional\n",
        "from concurrent.futures import ThreadPoolExecutor\n",
        "import hashlib\n",
        "from datetime import datetime\n",
        "import matplotlib.pyplot as plt\n",
        "\n",
        "# Configure logging\n",
        "logging.basicConfig(level=logging.INFO,\n",
        "                    format='%(asctime)s - %(levelname)s - %(message)s')\n",
        "\n",
        "class DataManager:\n",
        "    \"\"\"Class for handling data storage and privacy\"\"\"\n",
        "    \n",
        "    def __init__(self):\n",
        "        self.conn = sqlite3.connect('mood_data.db', check_same_thread=False)\n",
        "        self._init_db()\n",
        "        \n",
        "    def _init_db(self):\n",
        "        \"\"\"Initialize database tables\"\"\"\n",
        "        with self.conn:\n",
        "            # Mood history table\n",
        "            self.conn.execute('''\n",
        "                CREATE TABLE IF NOT EXISTS mood_history (\n",
        "                    id INTEGER PRIMARY KEY AUTOINCREMENT,\n",
        "                    employee_hash TEXT NOT NULL,\n",
        "                    timestamp DATETIME NOT NULL,\n",
        "                    mood TEXT NOT NULL,\n",
        "                    source TEXT NOT NULL\n",
        "                )\n",
        "            ''')\n",
        "            \n",
        "            # Teams table\n",
        "            self.conn.execute('''\n",
        "                CREATE TABLE IF NOT EXISTS teams (\n",
        "                    id INTEGER PRIMARY KEY AUTOINCREMENT,\n",
        "                    team_name TEXT NOT NULL UNIQUE\n",
        "                )\n",
        "            ''')\n",
        "            \n",
        "            # Team members table\n",
        "            self.conn.execute('''\n",
        "                CREATE TABLE IF NOT EXISTS team_members (\n",
        "                    id INTEGER PRIMARY KEY AUTOINCREMENT,\n",
        "                    team_id INTEGER NOT NULL,\n",
        "                    employee_hash TEXT NOT NULL,\n",
        "                    FOREIGN KEY (team_id) REFERENCES teams (id)\n",
        "                )\n",
        "            ''')\n",
        "            \n",
        "    def store_mood(self, employee_hash: str, mood: str, source: str):\n",
        "        \"\"\"Store mood data in database\"\"\"\n",
        "        try:\n",
        "            timestamp = datetime.now().strftime(\"%Y-%m-%d %H:%M:%S\")\n",
        "            with self.conn:\n",
        "                self.conn.execute('''\n",
        "                    INSERT INTO mood_history \n",
        "                    (employee_hash, timestamp, mood, source)\n",
        "                    VALUES (?, ?, ?, ?)\n",
        "                ''', (employee_hash, timestamp, mood, source))\n",
        "        except Exception as e:\n",
        "            logging.error(f\"Database error: {e}\")\n",
        "\n",
        "    def get_mood_history(self, employee_hash: str) -> List[Tuple]:\n",
        "        \"\"\"Retrieve mood history for an employee\"\"\"\n",
        "        try:\n",
        "            cursor = self.conn.cursor()\n",
        "            cursor.execute('''\n",
        "                SELECT timestamp, mood, source \n",
        "                FROM mood_history \n",
        "                WHERE employee_hash = ?\n",
        "                ORDER BY timestamp DESC\n",
        "            ''', (employee_hash,))\n",
        "            return cursor.fetchall()\n",
        "        except Exception as e:\n",
        "            logging.error(f\"Database error: {e}\")\n",
        "            return []\n",
        "\n",
        "    def add_team(self, team_name: str) -> int:\n",
        "        \"\"\"Add a new team to the database\"\"\"\n",
        "        try:\n",
        "            with self.conn:\n",
        "                cursor = self.conn.cursor()\n",
        "                cursor.execute('''\n",
        "                    INSERT INTO teams (team_name)\n",
        "                    VALUES (?)\n",
        "                ''', (team_name,))\n",
        "                return cursor.lastrowid\n",
        "        except Exception as e:\n",
        "            logging.error(f\"Database error: {e}\")\n",
        "            return -1\n",
        "\n",
        "    def add_team_member(self, team_id: int, employee_hash: str):\n",
        "        \"\"\"Add an employee to a team\"\"\"\n",
        "        try:\n",
        "            with self.conn:\n",
        "                self.conn.execute('''\n",
        "                    INSERT INTO team_members (team_id, employee_hash)\n",
        "                    VALUES (?, ?)\n",
        "                ''', (team_id, employee_hash))\n",
        "        except Exception as e:\n",
        "            logging.error(f\"Database error: {e}\")\n",
        "\n",
        "    def get_team_mood_history(self, team_id: int) -> List[Tuple]:\n",
        "        \"\"\"Retrieve mood history for a team\"\"\"\n",
        "        try:\n",
        "            cursor = self.conn.cursor()\n",
        "            cursor.execute('''\n",
        "                SELECT m.timestamp, m.mood\n",
        "                FROM mood_history m\n",
        "                JOIN team_members tm ON m.employee_hash = tm.employee_hash\n",
        "                WHERE tm.team_id = ?\n",
        "                ORDER BY m.timestamp DESC\n",
        "            ''', (team_id,))\n",
        "            return cursor.fetchall()\n",
        "        except Exception as e:\n",
        "            logging.error(f\"Database error: {e}\")\n",
        "            return []\n",
        "\n",
        "class TeamAnalytics:\n",
        "    \"\"\"Class for team-level mood analytics\"\"\"\n",
        "    \n",
        "    def __init__(self, data_manager: DataManager):\n",
        "        self.data_manager = data_manager\n",
        "        \n",
        "    def get_team_mood_trends(self, team_id: int) -> Dict[str, float]:\n",
        "        \"\"\"Calculate mood trends for a team\"\"\"\n",
        "        mood_history = self.data_manager.get_team_mood_history(team_id)\n",
        "        if not mood_history:\n",
        "            return {}\n",
        "        \n",
        "        # Count mood occurrences\n",
        "        mood_counts = {}\n",
        "        for _, mood in mood_history:\n",
        "            mood_counts[mood] = mood_counts.get(mood, 0) + 1\n",
        "        \n",
        "        # Calculate percentages\n",
        "        total = len(mood_history)\n",
        "        mood_percentages = {mood: (count / total) * 100 for mood, count in mood_counts.items()}\n",
        "        \n",
        "        return mood_percentages\n",
        "    \n",
        "    def plot_team_mood_trends(self, team_id: int):\n",
        "        \"\"\"Visualize team mood trends\"\"\"\n",
        "        mood_history = self.data_manager.get_team_mood_history(team_id)\n",
        "        if not mood_history:\n",
        "            print(\"No mood data available for this team.\")\n",
        "            return\n",
        "        \n",
        "        # Prepare data for plotting\n",
        "        timestamps = [datetime.strptime(ts, \"%Y-%m-%d %H:%M:%S\") for ts, _ in mood_history]\n",
        "        moods = [mood for _, mood in mood_history]\n",
        "        \n",
        "        # Plot\n",
        "        plt.figure(figsize=(10, 6))\n",
        "        plt.plot(timestamps, moods, marker='o', linestyle='-', color='b')\n",
        "        plt.title(f\"Team {team_id} Mood Trends\")\n",
        "        plt.xlabel(\"Time\")\n",
        "        plt.ylabel(\"Mood\")\n",
        "        plt.grid(True)\n",
        "        plt.xticks(rotation=45)\n",
        "        plt.tight_layout()\n",
        "        plt.show()\n",
        "\n",
        "class EmotionDetector:\n",
        "    \"\"\"Main class for real-time emotion detection\"\"\"\n",
        "    \n",
        "    def __init__(self):\n",
        "        self.data_manager = DataManager()\n",
        "        self.analyzer = EmotionAnalyzer()\n",
        "        self.recommender = TaskRecommender()\n",
        "        self.stress_monitor = StressMonitor(self.data_manager)\n",
        "        self.team_analytics = TeamAnalytics(self.data_manager)\n",
        "        self.executor = ThreadPoolExecutor(max_workers=4)\n",
        "        \n",
        "    def anonymize_id(self, employee_id: str) -> str:\n",
        "        \"\"\"Anonymize employee ID with salt\"\"\"\n",
        "        salt = b\"secure_salt\"  # 11 bytes (must be <= 16 bytes)\n",
        "        return hashlib.blake2b(\n",
        "            employee_id.encode(), \n",
        "            salt=salt\n",
        "        ).hexdigest()\n",
        "        \n",
        "    def process_frame(self, frame: np.ndarray, employee_hash: str):\n",
        "        \"\"\"Process video frame for emotion detection\"\"\"\n",
        "        try:\n",
        "            emotion = self.analyzer.analyze_face(frame)\n",
        "            self.data_manager.store_mood(employee_hash, emotion, \"visual\")\n",
        "            task = self.recommender.get_recommendation(emotion)\n",
        "            \n",
        "            # Add overlay to frame\n",
        "            cv2.putText(frame, f\"Mood: {emotion}\", (10, 30),\n",
        "                        cv2.FONT_HERSHEY_SIMPLEX, 0.7, (0, 255, 0), 2)\n",
        "            cv2.putText(frame, f\"Task: {task}\", (10, 60),\n",
        "                        cv2.FONT_HERSHEY_SIMPLEX, 0.7, (0, 255, 0), 2)\n",
        "            \n",
        "            # Async stress check\n",
        "            self.executor.submit(\n",
        "                self.stress_monitor.check_stress,\n",
        "                employee_hash\n",
        "            )\n",
        "        except Exception as e:\n",
        "            logging.error(f\"Frame processing error: {e}\")\n",
        "            \n",
        "    def run(self, employee_id: str):\n",
        "        \"\"\"Main execution method\"\"\"\n",
        "        employee_hash = self.anonymize_id(employee_id)\n",
        "        cap = cv2.VideoCapture(0)\n",
        "        \n",
        "        if not cap.isOpened():\n",
        "            logging.error(\"Failed to open webcam\")\n",
        "            return\n",
        "            \n",
        "        try:\n",
        "            while True:\n",
        "                ret, frame = cap.read()\n",
        "                if not ret:\n",
        "                    logging.warning(\"Frame capture failed\")\n",
        "                    continue\n",
        "                    \n",
        "                self.process_frame(frame, employee_hash)\n",
        "                cv2.imshow(\"Emotion Detection\", frame)\n",
        "                \n",
        "                if cv2.waitKey(1) & 0xFF == ord('q'):\n",
        "                    break\n",
        "        finally:\n",
        "            cap.release()\n",
        "            cv2.destroyAllWindows()\n",
        "            self.executor.shutdown()\n",
        "\n",
        "if __name__ == \"__main__\":\n",
        "    detector = EmotionDetector()\n",
        "    \n",
        "    # Example: Add a team and members\n",
        "    team_id = detector.data_manager.add_team(\"Engineering\")\n",
        "    detector.data_manager.add_team_member(team_id, detector.anonymize_id(\"employee_123\"))\n",
        "    \n",
        "    # Run emotion detection\n",
        "    detector.run(\"employee_123\")\n",
        "    \n",
        "    # Analyze team mood trends\n",
        "    team_analytics = TeamAnalytics(detector.data_manager)\n",
        "    print(\"Team Mood Trends:\", team_analytics.get_team_mood_trends(team_id))\n",
        "    team_analytics.plot_team_mood_trends(team_id)"
      ]
    },
    {
      "cell_type": "code",
      "execution_count": 5,
      "metadata": {},
      "outputs": [
        {
          "ename": "KeyboardInterrupt",
          "evalue": "",
          "output_type": "error",
          "traceback": [
            "\u001b[31m---------------------------------------------------------------------------\u001b[39m",
            "\u001b[31mKeyboardInterrupt\u001b[39m                         Traceback (most recent call last)",
            "\u001b[36mCell\u001b[39m\u001b[36m \u001b[39m\u001b[32mIn[5]\u001b[39m\u001b[32m, line 106\u001b[39m\n\u001b[32m    104\u001b[39m \u001b[38;5;28;01mif\u001b[39;00m \u001b[34m__name__\u001b[39m == \u001b[33m\"\u001b[39m\u001b[33m__main__\u001b[39m\u001b[33m\"\u001b[39m:\n\u001b[32m    105\u001b[39m     detector = EmotionDetector()\n\u001b[32m--> \u001b[39m\u001b[32m106\u001b[39m     \u001b[43mdetector\u001b[49m\u001b[43m.\u001b[49m\u001b[43mrun\u001b[49m\u001b[43m(\u001b[49m\u001b[33;43m\"\u001b[39;49m\u001b[33;43memployee_123\u001b[39;49m\u001b[33;43m\"\u001b[39;49m\u001b[43m)\u001b[49m\n",
            "\u001b[36mCell\u001b[39m\u001b[36m \u001b[39m\u001b[32mIn[5]\u001b[39m\u001b[32m, line 94\u001b[39m, in \u001b[36mEmotionDetector.run\u001b[39m\u001b[34m(self, employee_id)\u001b[39m\n\u001b[32m     91\u001b[39m     logging.warning(\u001b[33m\"\u001b[39m\u001b[33mFrame capture failed\u001b[39m\u001b[33m\"\u001b[39m)\n\u001b[32m     92\u001b[39m     \u001b[38;5;28;01mcontinue\u001b[39;00m\n\u001b[32m---> \u001b[39m\u001b[32m94\u001b[39m \u001b[38;5;28;43mself\u001b[39;49m\u001b[43m.\u001b[49m\u001b[43mprocess_frame\u001b[49m\u001b[43m(\u001b[49m\u001b[43mframe\u001b[49m\u001b[43m,\u001b[49m\u001b[43m \u001b[49m\u001b[43memployee_hash\u001b[49m\u001b[43m)\u001b[49m\n\u001b[32m     95\u001b[39m cv2.imshow(\u001b[33m\"\u001b[39m\u001b[33mEmotion Detection\u001b[39m\u001b[33m\"\u001b[39m, frame)\n\u001b[32m     97\u001b[39m \u001b[38;5;28;01mif\u001b[39;00m cv2.waitKey(\u001b[32m1\u001b[39m) & \u001b[32m0xFF\u001b[39m == \u001b[38;5;28mord\u001b[39m(\u001b[33m'\u001b[39m\u001b[33mq\u001b[39m\u001b[33m'\u001b[39m):\n",
            "\u001b[36mCell\u001b[39m\u001b[36m \u001b[39m\u001b[32mIn[5]\u001b[39m\u001b[32m, line 70\u001b[39m, in \u001b[36mEmotionDetector.process_frame\u001b[39m\u001b[34m(self, frame, employee_hash)\u001b[39m\n\u001b[32m     68\u001b[39m \u001b[38;5;250m\u001b[39m\u001b[33;03m\"\"\"Process video frame for emotion detection\"\"\"\u001b[39;00m\n\u001b[32m     69\u001b[39m \u001b[38;5;28;01mtry\u001b[39;00m:\n\u001b[32m---> \u001b[39m\u001b[32m70\u001b[39m     emotion = \u001b[38;5;28;43mself\u001b[39;49m\u001b[43m.\u001b[49m\u001b[43manalyze_face\u001b[49m\u001b[43m(\u001b[49m\u001b[43mframe\u001b[49m\u001b[43m)\u001b[49m\n\u001b[32m     71\u001b[39m     \u001b[38;5;28mself\u001b[39m.data_manager.store_mood(employee_hash, emotion, \u001b[33m\"\u001b[39m\u001b[33mvisual\u001b[39m\u001b[33m\"\u001b[39m)\n\u001b[32m     73\u001b[39m     cv2.putText(frame, \u001b[33mf\u001b[39m\u001b[33m\"\u001b[39m\u001b[33mMood: \u001b[39m\u001b[38;5;132;01m{\u001b[39;00memotion\u001b[38;5;132;01m}\u001b[39;00m\u001b[33m\"\u001b[39m, (\u001b[32m10\u001b[39m, \u001b[32m30\u001b[39m),\n\u001b[32m     74\u001b[39m                 cv2.FONT_HERSHEY_SIMPLEX, \u001b[32m0.7\u001b[39m, (\u001b[32m0\u001b[39m, \u001b[32m255\u001b[39m, \u001b[32m0\u001b[39m), \u001b[32m2\u001b[39m)\n",
            "\u001b[36mCell\u001b[39m\u001b[36m \u001b[39m\u001b[32mIn[5]\u001b[39m\u001b[32m, line 61\u001b[39m, in \u001b[36mEmotionDetector.analyze_face\u001b[39m\u001b[34m(self, frame)\u001b[39m\n\u001b[32m     59\u001b[39m \u001b[38;5;250m\u001b[39m\u001b[33;03m\"\"\"Use DeepFace to analyze emotions\"\"\"\u001b[39;00m\n\u001b[32m     60\u001b[39m \u001b[38;5;28;01mtry\u001b[39;00m:\n\u001b[32m---> \u001b[39m\u001b[32m61\u001b[39m     analysis = \u001b[43mDeepFace\u001b[49m\u001b[43m.\u001b[49m\u001b[43manalyze\u001b[49m\u001b[43m(\u001b[49m\u001b[43mframe\u001b[49m\u001b[43m,\u001b[49m\u001b[43m \u001b[49m\u001b[43mactions\u001b[49m\u001b[43m=\u001b[49m\u001b[43m[\u001b[49m\u001b[33;43m'\u001b[39;49m\u001b[33;43memotion\u001b[39;49m\u001b[33;43m'\u001b[39;49m\u001b[43m]\u001b[49m\u001b[43m,\u001b[49m\u001b[43m \u001b[49m\u001b[43menforce_detection\u001b[49m\u001b[43m=\u001b[49m\u001b[38;5;28;43;01mFalse\u001b[39;49;00m\u001b[43m)\u001b[49m\n\u001b[32m     62\u001b[39m     \u001b[38;5;28;01mreturn\u001b[39;00m analysis[\u001b[32m0\u001b[39m][\u001b[33m'\u001b[39m\u001b[33mdominant_emotion\u001b[39m\u001b[33m'\u001b[39m]\n\u001b[32m     63\u001b[39m \u001b[38;5;28;01mexcept\u001b[39;00m \u001b[38;5;167;01mException\u001b[39;00m \u001b[38;5;28;01mas\u001b[39;00m e:\n",
            "\u001b[36mFile \u001b[39m\u001b[32mc:\\Users\\sarxx\\AppData\\Local\\Programs\\Python\\Python312\\Lib\\site-packages\\deepface\\DeepFace.py:253\u001b[39m, in \u001b[36manalyze\u001b[39m\u001b[34m(img_path, actions, enforce_detection, detector_backend, align, expand_percentage, silent, anti_spoofing)\u001b[39m\n\u001b[32m    166\u001b[39m \u001b[38;5;28;01mdef\u001b[39;00m\u001b[38;5;250m \u001b[39m\u001b[34manalyze\u001b[39m(\n\u001b[32m    167\u001b[39m     img_path: Union[\u001b[38;5;28mstr\u001b[39m, np.ndarray],\n\u001b[32m    168\u001b[39m     actions: Union[\u001b[38;5;28mtuple\u001b[39m, \u001b[38;5;28mlist\u001b[39m] = (\u001b[33m\"\u001b[39m\u001b[33memotion\u001b[39m\u001b[33m\"\u001b[39m, \u001b[33m\"\u001b[39m\u001b[33mage\u001b[39m\u001b[33m\"\u001b[39m, \u001b[33m\"\u001b[39m\u001b[33mgender\u001b[39m\u001b[33m\"\u001b[39m, \u001b[33m\"\u001b[39m\u001b[33mrace\u001b[39m\u001b[33m\"\u001b[39m),\n\u001b[32m   (...)\u001b[39m\u001b[32m    174\u001b[39m     anti_spoofing: \u001b[38;5;28mbool\u001b[39m = \u001b[38;5;28;01mFalse\u001b[39;00m,\n\u001b[32m    175\u001b[39m ) -> List[Dict[\u001b[38;5;28mstr\u001b[39m, Any]]:\n\u001b[32m    176\u001b[39m \u001b[38;5;250m    \u001b[39m\u001b[33;03m\"\"\"\u001b[39;00m\n\u001b[32m    177\u001b[39m \u001b[33;03m    Analyze facial attributes such as age, gender, emotion, and race in the provided image.\u001b[39;00m\n\u001b[32m    178\u001b[39m \u001b[33;03m    Args:\u001b[39;00m\n\u001b[32m   (...)\u001b[39m\u001b[32m    251\u001b[39m \u001b[33;03m            - 'white': Confidence score for White ethnicity.\u001b[39;00m\n\u001b[32m    252\u001b[39m \u001b[33;03m    \"\"\"\u001b[39;00m\n\u001b[32m--> \u001b[39m\u001b[32m253\u001b[39m     \u001b[38;5;28;01mreturn\u001b[39;00m \u001b[43mdemography\u001b[49m\u001b[43m.\u001b[49m\u001b[43manalyze\u001b[49m\u001b[43m(\u001b[49m\n\u001b[32m    254\u001b[39m \u001b[43m        \u001b[49m\u001b[43mimg_path\u001b[49m\u001b[43m=\u001b[49m\u001b[43mimg_path\u001b[49m\u001b[43m,\u001b[49m\n\u001b[32m    255\u001b[39m \u001b[43m        \u001b[49m\u001b[43mactions\u001b[49m\u001b[43m=\u001b[49m\u001b[43mactions\u001b[49m\u001b[43m,\u001b[49m\n\u001b[32m    256\u001b[39m \u001b[43m        \u001b[49m\u001b[43menforce_detection\u001b[49m\u001b[43m=\u001b[49m\u001b[43menforce_detection\u001b[49m\u001b[43m,\u001b[49m\n\u001b[32m    257\u001b[39m \u001b[43m        \u001b[49m\u001b[43mdetector_backend\u001b[49m\u001b[43m=\u001b[49m\u001b[43mdetector_backend\u001b[49m\u001b[43m,\u001b[49m\n\u001b[32m    258\u001b[39m \u001b[43m        \u001b[49m\u001b[43malign\u001b[49m\u001b[43m=\u001b[49m\u001b[43malign\u001b[49m\u001b[43m,\u001b[49m\n\u001b[32m    259\u001b[39m \u001b[43m        \u001b[49m\u001b[43mexpand_percentage\u001b[49m\u001b[43m=\u001b[49m\u001b[43mexpand_percentage\u001b[49m\u001b[43m,\u001b[49m\n\u001b[32m    260\u001b[39m \u001b[43m        \u001b[49m\u001b[43msilent\u001b[49m\u001b[43m=\u001b[49m\u001b[43msilent\u001b[49m\u001b[43m,\u001b[49m\n\u001b[32m    261\u001b[39m \u001b[43m        \u001b[49m\u001b[43manti_spoofing\u001b[49m\u001b[43m=\u001b[49m\u001b[43manti_spoofing\u001b[49m\u001b[43m,\u001b[49m\n\u001b[32m    262\u001b[39m \u001b[43m    \u001b[49m\u001b[43m)\u001b[49m\n",
            "\u001b[36mFile \u001b[39m\u001b[32mc:\\Users\\sarxx\\AppData\\Local\\Programs\\Python\\Python312\\Lib\\site-packages\\deepface\\modules\\demography.py:123\u001b[39m, in \u001b[36manalyze\u001b[39m\u001b[34m(img_path, actions, enforce_detection, detector_backend, align, expand_percentage, silent, anti_spoofing)\u001b[39m\n\u001b[32m    120\u001b[39m \u001b[38;5;66;03m# ---------------------------------\u001b[39;00m\n\u001b[32m    121\u001b[39m resp_objects = []\n\u001b[32m--> \u001b[39m\u001b[32m123\u001b[39m img_objs = \u001b[43mdetection\u001b[49m\u001b[43m.\u001b[49m\u001b[43mextract_faces\u001b[49m\u001b[43m(\u001b[49m\n\u001b[32m    124\u001b[39m \u001b[43m    \u001b[49m\u001b[43mimg_path\u001b[49m\u001b[43m=\u001b[49m\u001b[43mimg_path\u001b[49m\u001b[43m,\u001b[49m\n\u001b[32m    125\u001b[39m \u001b[43m    \u001b[49m\u001b[43mdetector_backend\u001b[49m\u001b[43m=\u001b[49m\u001b[43mdetector_backend\u001b[49m\u001b[43m,\u001b[49m\n\u001b[32m    126\u001b[39m \u001b[43m    \u001b[49m\u001b[43menforce_detection\u001b[49m\u001b[43m=\u001b[49m\u001b[43menforce_detection\u001b[49m\u001b[43m,\u001b[49m\n\u001b[32m    127\u001b[39m \u001b[43m    \u001b[49m\u001b[43mgrayscale\u001b[49m\u001b[43m=\u001b[49m\u001b[38;5;28;43;01mFalse\u001b[39;49;00m\u001b[43m,\u001b[49m\n\u001b[32m    128\u001b[39m \u001b[43m    \u001b[49m\u001b[43malign\u001b[49m\u001b[43m=\u001b[49m\u001b[43malign\u001b[49m\u001b[43m,\u001b[49m\n\u001b[32m    129\u001b[39m \u001b[43m    \u001b[49m\u001b[43mexpand_percentage\u001b[49m\u001b[43m=\u001b[49m\u001b[43mexpand_percentage\u001b[49m\u001b[43m,\u001b[49m\n\u001b[32m    130\u001b[39m \u001b[43m    \u001b[49m\u001b[43manti_spoofing\u001b[49m\u001b[43m=\u001b[49m\u001b[43manti_spoofing\u001b[49m\u001b[43m,\u001b[49m\n\u001b[32m    131\u001b[39m \u001b[43m\u001b[49m\u001b[43m)\u001b[49m\n\u001b[32m    133\u001b[39m \u001b[38;5;28;01mfor\u001b[39;00m img_obj \u001b[38;5;129;01min\u001b[39;00m img_objs:\n\u001b[32m    134\u001b[39m     \u001b[38;5;28;01mif\u001b[39;00m anti_spoofing \u001b[38;5;129;01mis\u001b[39;00m \u001b[38;5;28;01mTrue\u001b[39;00m \u001b[38;5;129;01mand\u001b[39;00m img_obj.get(\u001b[33m\"\u001b[39m\u001b[33mis_real\u001b[39m\u001b[33m\"\u001b[39m, \u001b[38;5;28;01mTrue\u001b[39;00m) \u001b[38;5;129;01mis\u001b[39;00m \u001b[38;5;28;01mFalse\u001b[39;00m:\n",
            "\u001b[36mFile \u001b[39m\u001b[32mc:\\Users\\sarxx\\AppData\\Local\\Programs\\Python\\Python312\\Lib\\site-packages\\deepface\\modules\\detection.py:95\u001b[39m, in \u001b[36mextract_faces\u001b[39m\u001b[34m(img_path, detector_backend, enforce_detection, align, expand_percentage, grayscale, color_face, normalize_face, anti_spoofing)\u001b[39m\n\u001b[32m     93\u001b[39m     face_objs = [DetectedFace(img=img, facial_area=base_region, confidence=\u001b[32m0\u001b[39m)]\n\u001b[32m     94\u001b[39m \u001b[38;5;28;01melse\u001b[39;00m:\n\u001b[32m---> \u001b[39m\u001b[32m95\u001b[39m     face_objs = \u001b[43mdetect_faces\u001b[49m\u001b[43m(\u001b[49m\n\u001b[32m     96\u001b[39m \u001b[43m        \u001b[49m\u001b[43mdetector_backend\u001b[49m\u001b[43m=\u001b[49m\u001b[43mdetector_backend\u001b[49m\u001b[43m,\u001b[49m\n\u001b[32m     97\u001b[39m \u001b[43m        \u001b[49m\u001b[43mimg\u001b[49m\u001b[43m=\u001b[49m\u001b[43mimg\u001b[49m\u001b[43m,\u001b[49m\n\u001b[32m     98\u001b[39m \u001b[43m        \u001b[49m\u001b[43malign\u001b[49m\u001b[43m=\u001b[49m\u001b[43malign\u001b[49m\u001b[43m,\u001b[49m\n\u001b[32m     99\u001b[39m \u001b[43m        \u001b[49m\u001b[43mexpand_percentage\u001b[49m\u001b[43m=\u001b[49m\u001b[43mexpand_percentage\u001b[49m\u001b[43m,\u001b[49m\n\u001b[32m    100\u001b[39m \u001b[43m    \u001b[49m\u001b[43m)\u001b[49m\n\u001b[32m    102\u001b[39m \u001b[38;5;66;03m# in case of no face found\u001b[39;00m\n\u001b[32m    103\u001b[39m \u001b[38;5;28;01mif\u001b[39;00m \u001b[38;5;28mlen\u001b[39m(face_objs) == \u001b[32m0\u001b[39m \u001b[38;5;129;01mand\u001b[39;00m enforce_detection \u001b[38;5;129;01mis\u001b[39;00m \u001b[38;5;28;01mTrue\u001b[39;00m:\n",
            "\u001b[36mFile \u001b[39m\u001b[32mc:\\Users\\sarxx\\AppData\\Local\\Programs\\Python\\Python312\\Lib\\site-packages\\deepface\\modules\\detection.py:262\u001b[39m, in \u001b[36mdetect_faces\u001b[39m\u001b[34m(detector_backend, img, align, expand_percentage)\u001b[39m\n\u001b[32m    260\u001b[39m \u001b[38;5;66;03m# align original image, then find projection of detected face area after alignment\u001b[39;00m\n\u001b[32m    261\u001b[39m \u001b[38;5;28;01mif\u001b[39;00m align \u001b[38;5;129;01mis\u001b[39;00m \u001b[38;5;28;01mTrue\u001b[39;00m:  \u001b[38;5;66;03m# and left_eye is not None and right_eye is not None:\u001b[39;00m\n\u001b[32m--> \u001b[39m\u001b[32m262\u001b[39m     aligned_img, angle = \u001b[43malign_img_wrt_eyes\u001b[49m\u001b[43m(\u001b[49m\u001b[43mimg\u001b[49m\u001b[43m=\u001b[49m\u001b[43mimg\u001b[49m\u001b[43m,\u001b[49m\u001b[43m \u001b[49m\u001b[43mleft_eye\u001b[49m\u001b[43m=\u001b[49m\u001b[43mleft_eye\u001b[49m\u001b[43m,\u001b[49m\u001b[43m \u001b[49m\u001b[43mright_eye\u001b[49m\u001b[43m=\u001b[49m\u001b[43mright_eye\u001b[49m\u001b[43m)\u001b[49m\n\u001b[32m    264\u001b[39m     rotated_x1, rotated_y1, rotated_x2, rotated_y2 = project_facial_area(\n\u001b[32m    265\u001b[39m         facial_area=(x, y, x + w, y + h), angle=angle, size=(img.shape[\u001b[32m0\u001b[39m], img.shape[\u001b[32m1\u001b[39m])\n\u001b[32m    266\u001b[39m     )\n\u001b[32m    267\u001b[39m     detected_face = aligned_img[\n\u001b[32m    268\u001b[39m         \u001b[38;5;28mint\u001b[39m(rotated_y1) : \u001b[38;5;28mint\u001b[39m(rotated_y2), \u001b[38;5;28mint\u001b[39m(rotated_x1) : \u001b[38;5;28mint\u001b[39m(rotated_x2)\n\u001b[32m    269\u001b[39m     ]\n",
            "\u001b[36mFile \u001b[39m\u001b[32mc:\\Users\\sarxx\\AppData\\Local\\Programs\\Python\\Python312\\Lib\\site-packages\\deepface\\modules\\detection.py:314\u001b[39m, in \u001b[36malign_img_wrt_eyes\u001b[39m\u001b[34m(img, left_eye, right_eye)\u001b[39m\n\u001b[32m    311\u001b[39m     \u001b[38;5;28;01mreturn\u001b[39;00m img, \u001b[32m0\u001b[39m\n\u001b[32m    313\u001b[39m angle = \u001b[38;5;28mfloat\u001b[39m(np.degrees(np.arctan2(left_eye[\u001b[32m1\u001b[39m] - right_eye[\u001b[32m1\u001b[39m], left_eye[\u001b[32m0\u001b[39m] - right_eye[\u001b[32m0\u001b[39m])))\n\u001b[32m--> \u001b[39m\u001b[32m314\u001b[39m img = np.array(\u001b[43mImage\u001b[49m\u001b[43m.\u001b[49m\u001b[43mfromarray\u001b[49m\u001b[43m(\u001b[49m\u001b[43mimg\u001b[49m\u001b[43m)\u001b[49m\u001b[43m.\u001b[49m\u001b[43mrotate\u001b[49m\u001b[43m(\u001b[49m\u001b[43mangle\u001b[49m\u001b[43m,\u001b[49m\u001b[43m \u001b[49m\u001b[43mresample\u001b[49m\u001b[43m=\u001b[49m\u001b[43mImage\u001b[49m\u001b[43m.\u001b[49m\u001b[43mBICUBIC\u001b[49m\u001b[43m)\u001b[49m)\n\u001b[32m    315\u001b[39m \u001b[38;5;28;01mreturn\u001b[39;00m img, angle\n",
            "\u001b[36mFile \u001b[39m\u001b[32mc:\\Users\\sarxx\\AppData\\Local\\Programs\\Python\\Python312\\Lib\\site-packages\\PIL\\Image.py:2505\u001b[39m, in \u001b[36mImage.rotate\u001b[39m\u001b[34m(self, angle, resample, expand, center, translate, fillcolor)\u001b[39m\n\u001b[32m   2502\u001b[39m     matrix[\u001b[32m2\u001b[39m], matrix[\u001b[32m5\u001b[39m] = transform(-(nw - w) / \u001b[32m2.0\u001b[39m, -(nh - h) / \u001b[32m2.0\u001b[39m, matrix)\n\u001b[32m   2503\u001b[39m     w, h = nw, nh\n\u001b[32m-> \u001b[39m\u001b[32m2505\u001b[39m \u001b[38;5;28;01mreturn\u001b[39;00m \u001b[38;5;28;43mself\u001b[39;49m\u001b[43m.\u001b[49m\u001b[43mtransform\u001b[49m\u001b[43m(\u001b[49m\n\u001b[32m   2506\u001b[39m \u001b[43m    \u001b[49m\u001b[43m(\u001b[49m\u001b[43mw\u001b[49m\u001b[43m,\u001b[49m\u001b[43m \u001b[49m\u001b[43mh\u001b[49m\u001b[43m)\u001b[49m\u001b[43m,\u001b[49m\u001b[43m \u001b[49m\u001b[43mTransform\u001b[49m\u001b[43m.\u001b[49m\u001b[43mAFFINE\u001b[49m\u001b[43m,\u001b[49m\u001b[43m \u001b[49m\u001b[43mmatrix\u001b[49m\u001b[43m,\u001b[49m\u001b[43m \u001b[49m\u001b[43mresample\u001b[49m\u001b[43m,\u001b[49m\u001b[43m \u001b[49m\u001b[43mfillcolor\u001b[49m\u001b[43m=\u001b[49m\u001b[43mfillcolor\u001b[49m\n\u001b[32m   2507\u001b[39m \u001b[43m\u001b[49m\u001b[43m)\u001b[49m\n",
            "\u001b[36mFile \u001b[39m\u001b[32mc:\\Users\\sarxx\\AppData\\Local\\Programs\\Python\\Python312\\Lib\\site-packages\\PIL\\Image.py:2886\u001b[39m, in \u001b[36mImage.transform\u001b[39m\u001b[34m(self, size, method, data, resample, fill, fillcolor)\u001b[39m\n\u001b[32m   2882\u001b[39m         im.__transformer(\n\u001b[32m   2883\u001b[39m             box, \u001b[38;5;28mself\u001b[39m, Transform.QUAD, quad, resample, fillcolor \u001b[38;5;129;01mis\u001b[39;00m \u001b[38;5;28;01mNone\u001b[39;00m\n\u001b[32m   2884\u001b[39m         )\n\u001b[32m   2885\u001b[39m \u001b[38;5;28;01melse\u001b[39;00m:\n\u001b[32m-> \u001b[39m\u001b[32m2886\u001b[39m     \u001b[43mim\u001b[49m\u001b[43m.\u001b[49m\u001b[43m__transformer\u001b[49m\u001b[43m(\u001b[49m\n\u001b[32m   2887\u001b[39m \u001b[43m        \u001b[49m\u001b[43m(\u001b[49m\u001b[32;43m0\u001b[39;49m\u001b[43m,\u001b[49m\u001b[43m \u001b[49m\u001b[32;43m0\u001b[39;49m\u001b[43m)\u001b[49m\u001b[43m \u001b[49m\u001b[43m+\u001b[49m\u001b[43m \u001b[49m\u001b[43msize\u001b[49m\u001b[43m,\u001b[49m\u001b[43m \u001b[49m\u001b[38;5;28;43mself\u001b[39;49m\u001b[43m,\u001b[49m\u001b[43m \u001b[49m\u001b[43mmethod\u001b[49m\u001b[43m,\u001b[49m\u001b[43m \u001b[49m\u001b[43mdata\u001b[49m\u001b[43m,\u001b[49m\u001b[43m \u001b[49m\u001b[43mresample\u001b[49m\u001b[43m,\u001b[49m\u001b[43m \u001b[49m\u001b[43mfillcolor\u001b[49m\u001b[43m \u001b[49m\u001b[38;5;129;43;01mis\u001b[39;49;00m\u001b[43m \u001b[49m\u001b[38;5;28;43;01mNone\u001b[39;49;00m\n\u001b[32m   2888\u001b[39m \u001b[43m    \u001b[49m\u001b[43m)\u001b[49m\n\u001b[32m   2890\u001b[39m \u001b[38;5;28;01mreturn\u001b[39;00m im\n",
            "\u001b[36mFile \u001b[39m\u001b[32mc:\\Users\\sarxx\\AppData\\Local\\Programs\\Python\\Python312\\Lib\\site-packages\\PIL\\Image.py:2976\u001b[39m, in \u001b[36mImage.__transformer\u001b[39m\u001b[34m(self, box, image, method, data, resample, fill)\u001b[39m\n\u001b[32m   2973\u001b[39m \u001b[38;5;28;01mif\u001b[39;00m image.mode \u001b[38;5;129;01min\u001b[39;00m (\u001b[33m\"\u001b[39m\u001b[33m1\u001b[39m\u001b[33m\"\u001b[39m, \u001b[33m\"\u001b[39m\u001b[33mP\u001b[39m\u001b[33m\"\u001b[39m):\n\u001b[32m   2974\u001b[39m     resample = Resampling.NEAREST\n\u001b[32m-> \u001b[39m\u001b[32m2976\u001b[39m \u001b[38;5;28;43mself\u001b[39;49m\u001b[43m.\u001b[49m\u001b[43mim\u001b[49m\u001b[43m.\u001b[49m\u001b[43mtransform\u001b[49m\u001b[43m(\u001b[49m\u001b[43mbox\u001b[49m\u001b[43m,\u001b[49m\u001b[43m \u001b[49m\u001b[43mimage\u001b[49m\u001b[43m.\u001b[49m\u001b[43mim\u001b[49m\u001b[43m,\u001b[49m\u001b[43m \u001b[49m\u001b[43mmethod\u001b[49m\u001b[43m,\u001b[49m\u001b[43m \u001b[49m\u001b[43mdata\u001b[49m\u001b[43m,\u001b[49m\u001b[43m \u001b[49m\u001b[43mresample\u001b[49m\u001b[43m,\u001b[49m\u001b[43m \u001b[49m\u001b[43mfill\u001b[49m\u001b[43m)\u001b[49m\n",
            "\u001b[31mKeyboardInterrupt\u001b[39m: "
          ]
        }
      ],
      "source": [
        "import cv2\n",
        "import numpy as np\n",
        "import sqlite3\n",
        "import logging\n",
        "from typing import Dict, List, Tuple\n",
        "from concurrent.futures import ThreadPoolExecutor\n",
        "import hashlib\n",
        "from datetime import datetime\n",
        "import matplotlib.pyplot as plt\n",
        "from deepface import DeepFace  # Improved real-time emotion detection\n",
        "\n",
        "# Configure logging\n",
        "logging.basicConfig(level=logging.INFO,\n",
        "                    format='%(asctime)s - %(levelname)s - %(message)s')\n",
        "\n",
        "class DataManager:\n",
        "    \"\"\"Class for handling data storage and privacy\"\"\"\n",
        "    \n",
        "    def __init__(self):\n",
        "        self.conn = sqlite3.connect('mood_data.db', check_same_thread=False)\n",
        "        self._init_db()\n",
        "        \n",
        "    def _init_db(self):\n",
        "        \"\"\"Initialize database tables\"\"\"\n",
        "        with self.conn:\n",
        "            self.conn.execute('''\n",
        "                CREATE TABLE IF NOT EXISTS mood_history (\n",
        "                    id INTEGER PRIMARY KEY AUTOINCREMENT,\n",
        "                    employee_hash TEXT NOT NULL,\n",
        "                    timestamp DATETIME NOT NULL,\n",
        "                    mood TEXT NOT NULL,\n",
        "                    source TEXT NOT NULL\n",
        "                )\n",
        "            ''')\n",
        "            \n",
        "    def store_mood(self, employee_hash: str, mood: str, source: str):\n",
        "        \"\"\"Store mood data in database\"\"\"\n",
        "        timestamp = datetime.now().strftime(\"%Y-%m-%d %H:%M:%S\")\n",
        "        with self.conn:\n",
        "            self.conn.execute('''\n",
        "                INSERT INTO mood_history \n",
        "                (employee_hash, timestamp, mood, source)\n",
        "                VALUES (?, ?, ?, ?)\n",
        "            ''', (employee_hash, timestamp, mood, source))\n",
        "\n",
        "class EmotionDetector:\n",
        "    \"\"\"Enhanced real-time emotion detection using DeepFace\"\"\"\n",
        "    \n",
        "    def __init__(self):\n",
        "        self.data_manager = DataManager()\n",
        "        self.executor = ThreadPoolExecutor(max_workers=4)\n",
        "        \n",
        "    def anonymize_id(self, employee_id: str) -> str:\n",
        "        \"\"\"Anonymize employee ID with hashing\"\"\"\n",
        "        salt = b\"secure_salt\"\n",
        "        return hashlib.blake2b(employee_id.encode(), salt=salt).hexdigest()\n",
        "        \n",
        "    def analyze_face(self, frame: np.ndarray) -> str:\n",
        "        \"\"\"Use DeepFace to analyze emotions\"\"\"\n",
        "        try:\n",
        "            analysis = DeepFace.analyze(frame, actions=['emotion'], enforce_detection=False)\n",
        "            return analysis[0]['dominant_emotion']\n",
        "        except Exception as e:\n",
        "            logging.error(f\"Emotion analysis error: {e}\")\n",
        "            return \"unknown\"\n",
        "        \n",
        "    def process_frame(self, frame: np.ndarray, employee_hash: str):\n",
        "        \"\"\"Process video frame for emotion detection\"\"\"\n",
        "        try:\n",
        "            emotion = self.analyze_face(frame)\n",
        "            self.data_manager.store_mood(employee_hash, emotion, \"visual\")\n",
        "            \n",
        "            cv2.putText(frame, f\"Mood: {emotion}\", (10, 30),\n",
        "                        cv2.FONT_HERSHEY_SIMPLEX, 0.7, (0, 255, 0), 2)\n",
        "        except Exception as e:\n",
        "            logging.error(f\"Frame processing error: {e}\")\n",
        "            \n",
        "    def run(self, employee_id: str):\n",
        "        \"\"\"Main execution method for real-time emotion detection\"\"\"\n",
        "        employee_hash = self.anonymize_id(employee_id)\n",
        "        cap = cv2.VideoCapture(0)\n",
        "        \n",
        "        if not cap.isOpened():\n",
        "            logging.error(\"Failed to open webcam\")\n",
        "            return\n",
        "            \n",
        "        try:\n",
        "            while True:\n",
        "                ret, frame = cap.read()\n",
        "                if not ret:\n",
        "                    logging.warning(\"Frame capture failed\")\n",
        "                    continue\n",
        "                    \n",
        "                self.process_frame(frame, employee_hash)\n",
        "                cv2.imshow(\"Emotion Detection\", frame)\n",
        "                \n",
        "                if cv2.waitKey(1) & 0xFF == ord('q'):\n",
        "                    break\n",
        "        finally:\n",
        "            cap.release()\n",
        "            cv2.destroyAllWindows()\n",
        "            self.executor.shutdown()\n",
        "\n",
        "if __name__ == \"__main__\":\n",
        "    detector = EmotionDetector()\n",
        "    detector.run(\"employee_123\")\n"
      ]
    },
    {
      "cell_type": "code",
      "execution_count": null,
      "metadata": {
        "colab": {
          "base_uri": "https://localhost:8080/"
        },
        "id": "5leTKEggv5hY",
        "outputId": "540f8116-07fe-4abb-db7a-6dd4210125e8"
      },
      "outputs": [
        {
          "name": "stdout",
          "output_type": "stream",
          "text": [
            "Error: Could not open webcam. Please check your webcam connection and permissions.\n",
            "No mood data recorded for Employee a665a45920422f9d417e4867efdc4fb8a04a1f3fff1fa07e998e86f7f7a27ae3.\n"
          ]
        }
      ],
      "source": [
        "import cv2\n",
        "import numpy as np\n",
        "import pandas as pd\n",
        "from deepface import DeepFace\n",
        "from datetime import datetime\n",
        "import hashlib\n",
        "\n",
        "# ==============================================\n",
        "# 1. Task Recommendation\n",
        "# ==============================================\n",
        "def recommend_task(emotion):\n",
        "    task_recommendations = {\n",
        "        \"happy\": \"Work on a creative project or brainstorm new ideas.\",\n",
        "        \"sad\": \"Take a short break and listen to calming music.\",\n",
        "        \"angry\": \"Step away from the desk and take a walk.\",\n",
        "        \"neutral\": \"Focus on routine tasks or organize your workspace.\",\n",
        "        \"surprise\": \"Explore a new tool or learn something new.\",\n",
        "        \"fear\": \"Review your tasks and prioritize what's most important.\",\n",
        "        \"disgust\": \"Clean your workspace or declutter your environment.\"\n",
        "    }\n",
        "    return task_recommendations.get(emotion.lower(), \"No specific recommendation.\")\n",
        "\n",
        "# ==============================================\n",
        "# 2. Historical Mood Tracking\n",
        "# ==============================================\n",
        "mood_history = {}\n",
        "\n",
        "def track_mood(employee_id, mood):\n",
        "    timestamp = datetime.now().strftime(\"%Y-%m-%d %H:%M:%S\")\n",
        "    if employee_id not in mood_history:\n",
        "        mood_history[employee_id] = []\n",
        "    mood_history[employee_id].append((timestamp, mood))\n",
        "\n",
        "# ==============================================\n",
        "# 3. Stress Management Alert\n",
        "# ==============================================\n",
        "def check_stress_level(employee_id, threshold=3):\n",
        "    if employee_id in mood_history:\n",
        "        negative_moods = [mood for (_, mood) in mood_history[employee_id] if mood in [\"sad\", \"angry\", \"fear\"]]\n",
        "        if len(negative_moods) >= threshold:\n",
        "            print(f\"Alert: Employee {employee_id} may be experiencing prolonged stress. Notify HR.\")\n",
        "\n",
        "# ==============================================\n",
        "# 4. Data Privacy and Anonymization\n",
        "# ==============================================\n",
        "def anonymize_employee_id(employee_id):\n",
        "    return hashlib.sha256(employee_id.encode()).hexdigest()\n",
        "\n",
        "# ==============================================\n",
        "# 5. Real-Time Emotion Detection Using Webcam\n",
        "# ==============================================\n",
        "def real_time_emotion_detection(employee_id):\n",
        "    # Initialize webcam\n",
        "    cap = cv2.VideoCapture(0)\n",
        "\n",
        "    if not cap.isOpened():\n",
        "        print(\"Error: Could not open webcam. Please check your webcam connection and permissions.\")\n",
        "        return\n",
        "\n",
        "    print(\"Webcam is working! Starting real-time emotion detection...\")\n",
        "\n",
        "    while True:\n",
        "        # Capture frame-by-frame\n",
        "        ret, frame = cap.read()\n",
        "        if not ret:\n",
        "            print(\"Error: Could not read frame.\")\n",
        "            break\n",
        "\n",
        "        # Save the frame as a temporary image\n",
        "        temp_image_path = \"temp_frame.jpg\"\n",
        "        cv2.imwrite(temp_image_path, frame)\n",
        "\n",
        "        try:\n",
        "            # Analyze the frame for emotions\n",
        "            result = DeepFace.analyze(img_path=temp_image_path, actions=['emotion'], enforce_detection=False)\n",
        "            dominant_emotion = result[0]['dominant_emotion']\n",
        "\n",
        "            # Display the emotion on the frame\n",
        "            cv2.putText(frame, f\"Emotion: {dominant_emotion}\", (10, 50), cv2.FONT_HERSHEY_SIMPLEX, 1, (0, 255, 0), 2)\n",
        "\n",
        "            # Track mood\n",
        "            track_mood(employee_id, dominant_emotion)\n",
        "\n",
        "            # Recommend task\n",
        "            task = recommend_task(dominant_emotion)\n",
        "            cv2.putText(frame, f\"Task: {task}\", (10, 100), cv2.FONT_HERSHEY_SIMPLEX, 0.9, (0, 255, 0), 2)\n",
        "\n",
        "            # Check stress level\n",
        "            check_stress_level(employee_id)\n",
        "\n",
        "        except Exception as e:\n",
        "            print(f\"Error during emotion detection: {e}\")\n",
        "\n",
        "        # Display the frame\n",
        "        cv2.imshow(\"Real-Time Emotion Detection\", frame)\n",
        "\n",
        "        # Break the loop on 'q' key press\n",
        "        if cv2.waitKey(1) & 0xFF == ord('q'):\n",
        "            break\n",
        "\n",
        "    # Release the webcam and close windows\n",
        "    cap.release()\n",
        "    cv2.destroyAllWindows()\n",
        "\n",
        "# ==============================================\n",
        "# Main Function to Run the System\n",
        "# ==============================================\n",
        "def main():\n",
        "    # Example employee ID\n",
        "    employee_id = \"123\"\n",
        "    anonymized_id = anonymize_employee_id(employee_id)\n",
        "\n",
        "    # Start real-time emotion detection\n",
        "    real_time_emotion_detection(anonymized_id)\n",
        "\n",
        "    # Display mood history (if any)\n",
        "    if anonymized_id in mood_history:\n",
        "        print(f\"Mood History for Employee {anonymized_id}: {mood_history[anonymized_id]}\")\n",
        "    else:\n",
        "        print(f\"No mood data recorded for Employee {anonymized_id}.\")\n",
        "\n",
        "if __name__ == \"__main__\":\n",
        "    main()"
      ]
    },
    {
      "cell_type": "code",
      "execution_count": null,
      "metadata": {
        "colab": {
          "base_uri": "https://localhost:8080/",
          "height": 497
        },
        "id": "xs__6Q-nw8GO",
        "outputId": "d3d5f1b5-bcda-4d6b-f583-7b5b16823c18"
      },
      "outputs": [
        {
          "data": {
            "image/jpeg": "[encoded data removed]",
            "text/plain": [
              "<IPython.core.display.Image object>"
            ]
          },
          "execution_count": 22,
          "metadata": {},
          "output_type": "execute_result"
        }
      ],
      "source": [
        "from IPython.display import Image\n",
        "\n",
        "# Display the captured photo\n",
        "Image(filename=photo_filename)"
      ]
    },
    {
      "cell_type": "code",
      "execution_count": null,
      "metadata": {
        "colab": {
          "base_uri": "https://localhost:8080/",
          "height": 370
        },
        "id": "RbuSTkyKx-nY",
        "outputId": "ed0710f3-396f-4c2d-d1c9-e115177fbec8"
      },
      "outputs": [
        {
          "data": {
            "application/javascript": "\n        async function takePhoto(quality) {\n            const div = document.createElement('div');\n            const video = document.createElement('video');\n            video.style.display = 'block';\n            const stream = await navigator.mediaDevices.getUserMedia({video: true});\n\n            document.body.appendChild(div);\n            div.appendChild(video);\n            video.srcObject = stream;\n            await video.play();\n\n            // Resize the video to match the camera's aspect ratio\n            const canvas = document.createElement('canvas');\n            canvas.width = video.videoWidth;\n            canvas.height = video.videoHeight;\n            canvas.getContext('2d').drawImage(video, 0, 0);\n            stream.getVideoTracks()[0].stop();\n            div.remove();\n            return canvas.toDataURL('image/jpeg', quality);\n        }\n    ",
            "text/plain": [
              "<IPython.core.display.Javascript object>"
            ]
          },
          "metadata": {},
          "output_type": "display_data"
        },
        {
          "ename": "KeyboardInterrupt",
          "evalue": "",
          "output_type": "error",
          "traceback": [
            "\u001b[0;31m---------------------------------------------------------------------------\u001b[0m",
            "\u001b[0;31mKeyboardInterrupt\u001b[0m                         Traceback (most recent call last)",
            "\u001b[0;32m<ipython-input-25-a17fb261d5dd>\u001b[0m in \u001b[0;36m<cell line: 0>\u001b[0;34m()\u001b[0m\n\u001b[1;32m      5\u001b[0m \u001b[0;32mfor\u001b[0m \u001b[0mi\u001b[0m \u001b[0;32min\u001b[0m \u001b[0mrange\u001b[0m\u001b[0;34m(\u001b[0m\u001b[0;36m10\u001b[0m\u001b[0;34m)\u001b[0m\u001b[0;34m:\u001b[0m  \u001b[0;31m# Capture 10 frames\u001b[0m\u001b[0;34m\u001b[0m\u001b[0;34m\u001b[0m\u001b[0m\n\u001b[1;32m      6\u001b[0m     \u001b[0;31m# Capture a photo\u001b[0m\u001b[0;34m\u001b[0m\u001b[0;34m\u001b[0m\u001b[0m\n\u001b[0;32m----> 7\u001b[0;31m     \u001b[0mphoto_filename\u001b[0m \u001b[0;34m=\u001b[0m \u001b[0mtake_photo\u001b[0m\u001b[0;34m(\u001b[0m\u001b[0;34m)\u001b[0m\u001b[0;34m\u001b[0m\u001b[0;34m\u001b[0m\u001b[0m\n\u001b[0m\u001b[1;32m      8\u001b[0m \u001b[0;34m\u001b[0m\u001b[0m\n\u001b[1;32m      9\u001b[0m     \u001b[0;31m# Detect emotion\u001b[0m\u001b[0;34m\u001b[0m\u001b[0;34m\u001b[0m\u001b[0m\n",
            "\u001b[0;32m<ipython-input-18-262fe96c7a69>\u001b[0m in \u001b[0;36mtake_photo\u001b[0;34m(filename, quality)\u001b[0m\n\u001b[1;32m     32\u001b[0m \u001b[0;34m\u001b[0m\u001b[0m\n\u001b[1;32m     33\u001b[0m     \u001b[0;31m# Get the photo data from JavaScript\u001b[0m\u001b[0;34m\u001b[0m\u001b[0;34m\u001b[0m\u001b[0m\n\u001b[0;32m---> 34\u001b[0;31m     \u001b[0mdata\u001b[0m \u001b[0;34m=\u001b[0m \u001b[0meval_js\u001b[0m\u001b[0;34m(\u001b[0m\u001b[0;34m'takePhoto({})'\u001b[0m\u001b[0;34m.\u001b[0m\u001b[0mformat\u001b[0m\u001b[0;34m(\u001b[0m\u001b[0mquality\u001b[0m\u001b[0;34m)\u001b[0m\u001b[0;34m)\u001b[0m\u001b[0;34m\u001b[0m\u001b[0;34m\u001b[0m\u001b[0m\n\u001b[0m\u001b[1;32m     35\u001b[0m \u001b[0;34m\u001b[0m\u001b[0m\n\u001b[1;32m     36\u001b[0m     \u001b[0;31m# Decode the base64 image data\u001b[0m\u001b[0;34m\u001b[0m\u001b[0;34m\u001b[0m\u001b[0m\n",
            "\u001b[0;32m/usr/local/lib/python3.11/dist-packages/google/colab/output/_js.py\u001b[0m in \u001b[0;36meval_js\u001b[0;34m(script, ignore_result, timeout_sec)\u001b[0m\n\u001b[1;32m     38\u001b[0m   \u001b[0;32mif\u001b[0m \u001b[0mignore_result\u001b[0m\u001b[0;34m:\u001b[0m\u001b[0;34m\u001b[0m\u001b[0;34m\u001b[0m\u001b[0m\n\u001b[1;32m     39\u001b[0m     \u001b[0;32mreturn\u001b[0m\u001b[0;34m\u001b[0m\u001b[0;34m\u001b[0m\u001b[0m\n\u001b[0;32m---> 40\u001b[0;31m   \u001b[0;32mreturn\u001b[0m \u001b[0m_message\u001b[0m\u001b[0;34m.\u001b[0m\u001b[0mread_reply_from_input\u001b[0m\u001b[0;34m(\u001b[0m\u001b[0mrequest_id\u001b[0m\u001b[0;34m,\u001b[0m \u001b[0mtimeout_sec\u001b[0m\u001b[0;34m)\u001b[0m\u001b[0;34m\u001b[0m\u001b[0;34m\u001b[0m\u001b[0m\n\u001b[0m\u001b[1;32m     41\u001b[0m \u001b[0;34m\u001b[0m\u001b[0m\n\u001b[1;32m     42\u001b[0m \u001b[0;34m\u001b[0m\u001b[0m\n",
            "\u001b[0;32m/usr/local/lib/python3.11/dist-packages/google/colab/_message.py\u001b[0m in \u001b[0;36mread_reply_from_input\u001b[0;34m(message_id, timeout_sec)\u001b[0m\n\u001b[1;32m     94\u001b[0m     \u001b[0mreply\u001b[0m \u001b[0;34m=\u001b[0m \u001b[0m_read_next_input_message\u001b[0m\u001b[0;34m(\u001b[0m\u001b[0;34m)\u001b[0m\u001b[0;34m\u001b[0m\u001b[0;34m\u001b[0m\u001b[0m\n\u001b[1;32m     95\u001b[0m     \u001b[0;32mif\u001b[0m \u001b[0mreply\u001b[0m \u001b[0;34m==\u001b[0m \u001b[0m_NOT_READY\u001b[0m \u001b[0;32mor\u001b[0m \u001b[0;32mnot\u001b[0m \u001b[0misinstance\u001b[0m\u001b[0;34m(\u001b[0m\u001b[0mreply\u001b[0m\u001b[0;34m,\u001b[0m \u001b[0mdict\u001b[0m\u001b[0;34m)\u001b[0m\u001b[0;34m:\u001b[0m\u001b[0;34m\u001b[0m\u001b[0;34m\u001b[0m\u001b[0m\n\u001b[0;32m---> 96\u001b[0;31m       \u001b[0mtime\u001b[0m\u001b[0;34m.\u001b[0m\u001b[0msleep\u001b[0m\u001b[0;34m(\u001b[0m\u001b[0;36m0.025\u001b[0m\u001b[0;34m)\u001b[0m\u001b[0;34m\u001b[0m\u001b[0;34m\u001b[0m\u001b[0m\n\u001b[0m\u001b[1;32m     97\u001b[0m       \u001b[0;32mcontinue\u001b[0m\u001b[0;34m\u001b[0m\u001b[0;34m\u001b[0m\u001b[0m\n\u001b[1;32m     98\u001b[0m     if (\n",
            "\u001b[0;31mKeyboardInterrupt\u001b[0m: "
          ]
        }
      ],
      "source": [
        "import time\n",
        "from IPython.display import clear_output\n",
        "\n",
        "# Real-time emotion detection loop\n",
        "for i in range(10):  # Capture 10 frames\n",
        "    # Capture a photo\n",
        "    photo_filename = take_photo()\n",
        "\n",
        "    # Detect emotion\n",
        "    emotion = detect_emotion(photo_filename)\n",
        "    print(f\"Frame {i+1}: Detected Emotion - {emotion}\")\n",
        "\n",
        "    # Display the photo\n",
        "    display(Image(filename=photo_filename))\n",
        "\n",
        "    # Wait for 2 seconds before capturing the next frame\n",
        "    time.sleep(2)\n",
        "\n",
        "    # Clear the output for the next frame\n",
        "    clear_output(wait=True)"
      ]
    },
    {
      "cell_type": "code",
      "execution_count": null,
      "metadata": {
        "colab": {
          "base_uri": "https://localhost:8080/",
          "height": 797,
          "resources": {
            "http://localhost:8080/photo.jpg": {
              "data": "",
              "headers": [
                [
                  "content-length",
                  "0"
                ]
              ],
              "ok": false,
              "status": 404,
              "status_text": ""
            }
          }
        },
        "id": "nQ4RMPoM1fCI",
        "outputId": "ecea0503-e669-4dda-9510-ea13d76097d0"
      },
      "outputs": [
        {
          "data": {
            "application/javascript": "\n        async function takePhoto(quality) {\n            const div = document.createElement('div');\n            const video = document.createElement('video');\n            video.style.display = 'block';\n            const stream = await navigator.mediaDevices.getUserMedia({video: true});\n\n            document.body.appendChild(div);\n            div.appendChild(video);\n            video.srcObject = stream;\n            await video.play();\n\n            // Resize the video to match the camera's aspect ratio\n            const canvas = document.createElement('canvas');\n            canvas.width = video.videoWidth;\n            canvas.height = video.videoHeight;\n            canvas.getContext('2d').drawImage(video, 0, 0);\n            stream.getVideoTracks()[0].stop();\n            div.remove();\n            return canvas.toDataURL('image/jpeg', quality);\n        }\n    ",
            "text/plain": [
              "<IPython.core.display.Javascript object>"
            ]
          },
          "metadata": {},
          "output_type": "display_data"
        },
        {
          "name": "stdout",
          "output_type": "stream",
          "text": [
            "Frame 1: Detected Emotion - Error: Face could not be detected in photo.jpg.Please confirm that the picture is a face photo or consider to set enforce_detection param to False.\n",
            "Recommended Task: No specific recommendation.\n"
          ]
        },
        {
          "data": {
            "text/html": [
              "<img src='photo.jpg' width='400' />"
            ],
            "text/plain": [
              "<IPython.core.display.HTML object>"
            ]
          },
          "metadata": {},
          "output_type": "display_data"
        },
        {
          "data": {
            "text/html": [],
            "text/plain": [
              "<IPython.core.display.HTML object>"
            ]
          },
          "metadata": {},
          "output_type": "display_data"
        },
        {
          "data": {
            "application/javascript": "\n        async function takePhoto(quality) {\n            const div = document.createElement('div');\n            const video = document.createElement('video');\n            video.style.display = 'block';\n            const stream = await navigator.mediaDevices.getUserMedia({video: true});\n\n            document.body.appendChild(div);\n            div.appendChild(video);\n            video.srcObject = stream;\n            await video.play();\n\n            // Resize the video to match the camera's aspect ratio\n            const canvas = document.createElement('canvas');\n            canvas.width = video.videoWidth;\n            canvas.height = video.videoHeight;\n            canvas.getContext('2d').drawImage(video, 0, 0);\n            stream.getVideoTracks()[0].stop();\n            div.remove();\n            return canvas.toDataURL('image/jpeg', quality);\n        }\n    ",
            "text/plain": [
              "<IPython.core.display.Javascript object>"
            ]
          },
          "metadata": {},
          "output_type": "display_data"
        },
        {
          "name": "stdout",
          "output_type": "stream",
          "text": [
            "Frame 2: Detected Emotion - Error: Face could not be detected in photo.jpg.Please confirm that the picture is a face photo or consider to set enforce_detection param to False.\n",
            "Recommended Task: No specific recommendation.\n"
          ]
        },
        {
          "data": {
            "text/html": [
              "<img src='photo.jpg' width='400' />"
            ],
            "text/plain": [
              "<IPython.core.display.HTML object>"
            ]
          },
          "metadata": {},
          "output_type": "display_data"
        },
        {
          "data": {
            "text/html": [],
            "text/plain": [
              "<IPython.core.display.HTML object>"
            ]
          },
          "metadata": {},
          "output_type": "display_data"
        },
        {
          "data": {
            "application/javascript": "\n        async function takePhoto(quality) {\n            const div = document.createElement('div');\n            const video = document.createElement('video');\n            video.style.display = 'block';\n            const stream = await navigator.mediaDevices.getUserMedia({video: true});\n\n            document.body.appendChild(div);\n            div.appendChild(video);\n            video.srcObject = stream;\n            await video.play();\n\n            // Resize the video to match the camera's aspect ratio\n            const canvas = document.createElement('canvas');\n            canvas.width = video.videoWidth;\n            canvas.height = video.videoHeight;\n            canvas.getContext('2d').drawImage(video, 0, 0);\n            stream.getVideoTracks()[0].stop();\n            div.remove();\n            return canvas.toDataURL('image/jpeg', quality);\n        }\n    ",
            "text/plain": [
              "<IPython.core.display.Javascript object>"
            ]
          },
          "metadata": {},
          "output_type": "display_data"
        },
        {
          "name": "stdout",
          "output_type": "stream",
          "text": [
            "Frame 3: Detected Emotion - Error: Face could not be detected in photo.jpg.Please confirm that the picture is a face photo or consider to set enforce_detection param to False.\n",
            "Recommended Task: No specific recommendation.\n"
          ]
        },
        {
          "data": {
            "text/html": [
              "<img src='photo.jpg' width='400' />"
            ],
            "text/plain": [
              "<IPython.core.display.HTML object>"
            ]
          },
          "metadata": {},
          "output_type": "display_data"
        },
        {
          "data": {
            "text/html": [],
            "text/plain": [
              "<IPython.core.display.HTML object>"
            ]
          },
          "metadata": {},
          "output_type": "display_data"
        },
        {
          "data": {
            "application/javascript": "\n        async function takePhoto(quality) {\n            const div = document.createElement('div');\n            const video = document.createElement('video');\n            video.style.display = 'block';\n            const stream = await navigator.mediaDevices.getUserMedia({video: true});\n\n            document.body.appendChild(div);\n            div.appendChild(video);\n            video.srcObject = stream;\n            await video.play();\n\n            // Resize the video to match the camera's aspect ratio\n            const canvas = document.createElement('canvas');\n            canvas.width = video.videoWidth;\n            canvas.height = video.videoHeight;\n            canvas.getContext('2d').drawImage(video, 0, 0);\n            stream.getVideoTracks()[0].stop();\n            div.remove();\n            return canvas.toDataURL('image/jpeg', quality);\n        }\n    ",
            "text/plain": [
              "<IPython.core.display.Javascript object>"
            ]
          },
          "metadata": {},
          "output_type": "display_data"
        },
        {
          "name": "stdout",
          "output_type": "stream",
          "text": [
            "Frame 4: Detected Emotion - happy\n",
            "Recommended Task: Work on a creative project or brainstorm new ideas.\n"
          ]
        },
        {
          "data": {
            "text/html": [
              "<img src='photo.jpg' width='400' />"
            ],
            "text/plain": [
              "<IPython.core.display.HTML object>"
            ]
          },
          "metadata": {},
          "output_type": "display_data"
        },
        {
          "data": {
            "text/html": [],
            "text/plain": [
              "<IPython.core.display.HTML object>"
            ]
          },
          "metadata": {},
          "output_type": "display_data"
        },
        {
          "data": {
            "application/javascript": "\n        async function takePhoto(quality) {\n            const div = document.createElement('div');\n            const video = document.createElement('video');\n            video.style.display = 'block';\n            const stream = await navigator.mediaDevices.getUserMedia({video: true});\n\n            document.body.appendChild(div);\n            div.appendChild(video);\n            video.srcObject = stream;\n            await video.play();\n\n            // Resize the video to match the camera's aspect ratio\n            const canvas = document.createElement('canvas');\n            canvas.width = video.videoWidth;\n            canvas.height = video.videoHeight;\n            canvas.getContext('2d').drawImage(video, 0, 0);\n            stream.getVideoTracks()[0].stop();\n            div.remove();\n            return canvas.toDataURL('image/jpeg', quality);\n        }\n    ",
            "text/plain": [
              "<IPython.core.display.Javascript object>"
            ]
          },
          "metadata": {},
          "output_type": "display_data"
        },
        {
          "name": "stdout",
          "output_type": "stream",
          "text": [
            "Frame 5: Detected Emotion - neutral\n",
            "Recommended Task: Review your goals and progress.\n"
          ]
        },
        {
          "data": {
            "text/html": [
              "<img src='photo.jpg' width='400' />"
            ],
            "text/plain": [
              "<IPython.core.display.HTML object>"
            ]
          },
          "metadata": {},
          "output_type": "display_data"
        },
        {
          "data": {
            "text/html": [],
            "text/plain": [
              "<IPython.core.display.HTML object>"
            ]
          },
          "metadata": {},
          "output_type": "display_data"
        },
        {
          "data": {
            "application/javascript": "\n        async function takePhoto(quality) {\n            const div = document.createElement('div');\n            const video = document.createElement('video');\n            video.style.display = 'block';\n            const stream = await navigator.mediaDevices.getUserMedia({video: true});\n\n            document.body.appendChild(div);\n            div.appendChild(video);\n            video.srcObject = stream;\n            await video.play();\n\n            // Resize the video to match the camera's aspect ratio\n            const canvas = document.createElement('canvas');\n            canvas.width = video.videoWidth;\n            canvas.height = video.videoHeight;\n            canvas.getContext('2d').drawImage(video, 0, 0);\n            stream.getVideoTracks()[0].stop();\n            div.remove();\n            return canvas.toDataURL('image/jpeg', quality);\n        }\n    ",
            "text/plain": [
              "<IPython.core.display.Javascript object>"
            ]
          },
          "metadata": {},
          "output_type": "display_data"
        },
        {
          "name": "stdout",
          "output_type": "stream",
          "text": [
            "Frame 6: Detected Emotion - neutral\n",
            "Recommended Task: Review your goals and progress.\n"
          ]
        },
        {
          "data": {
            "text/html": [
              "<img src='photo.jpg' width='400' />"
            ],
            "text/plain": [
              "<IPython.core.display.HTML object>"
            ]
          },
          "metadata": {},
          "output_type": "display_data"
        },
        {
          "data": {
            "text/html": [],
            "text/plain": [
              "<IPython.core.display.HTML object>"
            ]
          },
          "metadata": {},
          "output_type": "display_data"
        },
        {
          "data": {
            "application/javascript": "\n        async function takePhoto(quality) {\n            const div = document.createElement('div');\n            const video = document.createElement('video');\n            video.style.display = 'block';\n            const stream = await navigator.mediaDevices.getUserMedia({video: true});\n\n            document.body.appendChild(div);\n            div.appendChild(video);\n            video.srcObject = stream;\n            await video.play();\n\n            // Resize the video to match the camera's aspect ratio\n            const canvas = document.createElement('canvas');\n            canvas.width = video.videoWidth;\n            canvas.height = video.videoHeight;\n            canvas.getContext('2d').drawImage(video, 0, 0);\n            stream.getVideoTracks()[0].stop();\n            div.remove();\n            return canvas.toDataURL('image/jpeg', quality);\n        }\n    ",
            "text/plain": [
              "<IPython.core.display.Javascript object>"
            ]
          },
          "metadata": {},
          "output_type": "display_data"
        },
        {
          "name": "stdout",
          "output_type": "stream",
          "text": [
            "Frame 7: Detected Emotion - neutral\n",
            "Recommended Task: Focus on routine tasks or organize your workspace.\n"
          ]
        },
        {
          "data": {
            "text/html": [
              "<img src='photo.jpg' width='400' />"
            ],
            "text/plain": [
              "<IPython.core.display.HTML object>"
            ]
          },
          "metadata": {},
          "output_type": "display_data"
        },
        {
          "data": {
            "text/html": [],
            "text/plain": [
              "<IPython.core.display.HTML object>"
            ]
          },
          "metadata": {},
          "output_type": "display_data"
        },
        {
          "data": {
            "application/javascript": "\n        async function takePhoto(quality) {\n            const div = document.createElement('div');\n            const video = document.createElement('video');\n            video.style.display = 'block';\n            const stream = await navigator.mediaDevices.getUserMedia({video: true});\n\n            document.body.appendChild(div);\n            div.appendChild(video);\n            video.srcObject = stream;\n            await video.play();\n\n            // Resize the video to match the camera's aspect ratio\n            const canvas = document.createElement('canvas');\n            canvas.width = video.videoWidth;\n            canvas.height = video.videoHeight;\n            canvas.getContext('2d').drawImage(video, 0, 0);\n            stream.getVideoTracks()[0].stop();\n            div.remove();\n            return canvas.toDataURL('image/jpeg', quality);\n        }\n    ",
            "text/plain": [
              "<IPython.core.display.Javascript object>"
            ]
          },
          "metadata": {},
          "output_type": "display_data"
        },
        {
          "name": "stdout",
          "output_type": "stream",
          "text": [
            "Frame 8: Detected Emotion - neutral\n",
            "Recommended Task: Learn something new or explore a new tool.\n"
          ]
        },
        {
          "data": {
            "text/html": [
              "<img src='photo.jpg' width='400' />"
            ],
            "text/plain": [
              "<IPython.core.display.HTML object>"
            ]
          },
          "metadata": {},
          "output_type": "display_data"
        },
        {
          "data": {
            "text/html": [],
            "text/plain": [
              "<IPython.core.display.HTML object>"
            ]
          },
          "metadata": {},
          "output_type": "display_data"
        },
        {
          "data": {
            "application/javascript": "\n        async function takePhoto(quality) {\n            const div = document.createElement('div');\n            const video = document.createElement('video');\n            video.style.display = 'block';\n            const stream = await navigator.mediaDevices.getUserMedia({video: true});\n\n            document.body.appendChild(div);\n            div.appendChild(video);\n            video.srcObject = stream;\n            await video.play();\n\n            // Resize the video to match the camera's aspect ratio\n            const canvas = document.createElement('canvas');\n            canvas.width = video.videoWidth;\n            canvas.height = video.videoHeight;\n            canvas.getContext('2d').drawImage(video, 0, 0);\n            stream.getVideoTracks()[0].stop();\n            div.remove();\n            return canvas.toDataURL('image/jpeg', quality);\n        }\n    ",
            "text/plain": [
              "<IPython.core.display.Javascript object>"
            ]
          },
          "metadata": {},
          "output_type": "display_data"
        },
        {
          "name": "stdout",
          "output_type": "stream",
          "text": [
            "Frame 9: Detected Emotion - neutral\n",
            "Recommended Task: Focus on routine tasks or organize your workspace.\n"
          ]
        },
        {
          "data": {
            "text/html": [
              "<img src='photo.jpg' width='400' />"
            ],
            "text/plain": [
              "<IPython.core.display.HTML object>"
            ]
          },
          "metadata": {},
          "output_type": "display_data"
        },
        {
          "data": {
            "text/html": [],
            "text/plain": [
              "<IPython.core.display.HTML object>"
            ]
          },
          "metadata": {},
          "output_type": "display_data"
        },
        {
          "data": {
            "application/javascript": "\n        async function takePhoto(quality) {\n            const div = document.createElement('div');\n            const video = document.createElement('video');\n            video.style.display = 'block';\n            const stream = await navigator.mediaDevices.getUserMedia({video: true});\n\n            document.body.appendChild(div);\n            div.appendChild(video);\n            video.srcObject = stream;\n            await video.play();\n\n            // Resize the video to match the camera's aspect ratio\n            const canvas = document.createElement('canvas');\n            canvas.width = video.videoWidth;\n            canvas.height = video.videoHeight;\n            canvas.getContext('2d').drawImage(video, 0, 0);\n            stream.getVideoTracks()[0].stop();\n            div.remove();\n            return canvas.toDataURL('image/jpeg', quality);\n        }\n    ",
            "text/plain": [
              "<IPython.core.display.Javascript object>"
            ]
          },
          "metadata": {},
          "output_type": "display_data"
        },
        {
          "name": "stdout",
          "output_type": "stream",
          "text": [
            "Frame 10: Detected Emotion - neutral\n",
            "Recommended Task: Plan your day and prioritize tasks for maximum productivity.\n"
          ]
        },
        {
          "data": {
            "text/html": [
              "<img src='photo.jpg' width='400' />"
            ],
            "text/plain": [
              "<IPython.core.display.HTML object>"
            ]
          },
          "metadata": {},
          "output_type": "display_data"
        },
        {
          "data": {
            "text/html": [],
            "text/plain": [
              "<IPython.core.display.HTML object>"
            ]
          },
          "metadata": {},
          "output_type": "display_data"
        },
        {
          "name": "stdout",
          "output_type": "stream",
          "text": [
            "Mood History for Employee a665a45920422f9d417e4867efdc4fb8a04a1f3fff1fa07e998e86f7f7a27ae3:\n",
            "2025-03-18 06:04:16: Error: Face could not be detected in photo.jpg.Please confirm that the picture is a face photo or consider to set enforce_detection param to False.\n",
            "2025-03-18 06:04:19: Error: Face could not be detected in photo.jpg.Please confirm that the picture is a face photo or consider to set enforce_detection param to False.\n",
            "2025-03-18 06:04:23: Error: Face could not be detected in photo.jpg.Please confirm that the picture is a face photo or consider to set enforce_detection param to False.\n",
            "2025-03-18 06:04:27: happy\n",
            "2025-03-18 06:04:31: neutral\n",
            "2025-03-18 06:04:34: neutral\n",
            "2025-03-18 06:04:38: neutral\n",
            "2025-03-18 06:04:41: neutral\n",
            "2025-03-18 06:04:45: neutral\n",
            "2025-03-18 06:04:48: neutral\n"
          ]
        }
      ],
      "source": [
        "# Import required libraries\n",
        "from IPython.display import display, Javascript, HTML\n",
        "from google.colab.output import eval_js\n",
        "from base64 import b64decode\n",
        "import cv2\n",
        "import numpy as np\n",
        "from deepface import DeepFace\n",
        "from datetime import datetime\n",
        "import hashlib\n",
        "import time\n",
        "import pandas as pd\n",
        "import random\n",
        "\n",
        "# ==============================================\n",
        "# 1. Task Recommendation\n",
        "# ==============================================\n",
        "def recommend_task(emotion):\n",
        "    task_recommendations = {\n",
        "        \"happy\": [\n",
        "            \"Work on a creative project or brainstorm new ideas.\",\n",
        "            \"Collaborate with teammates on a fun and engaging task.\",\n",
        "            \"Take on a challenging task that excites you.\",\n",
        "            \"Share your positive energy by helping a colleague.\"\n",
        "        ],\n",
        "        \"sad\": [\n",
        "            \"Take a short break and listen to calming music.\",\n",
        "            \"Reach out to a friend or colleague for a chat.\",\n",
        "            \"Write down your thoughts in a journal to reflect on your feelings.\",\n",
        "            \"Engage in a light and enjoyable task to lift your mood.\"\n",
        "        ],\n",
        "        \"angry\": [\n",
        "            \"Step away from the desk and take a walk to cool down.\",\n",
        "            \"Practice deep breathing or mindfulness exercises.\",\n",
        "            \"Write down what's bothering you and brainstorm solutions.\",\n",
        "            \"Engage in a physical activity to release tension.\"\n",
        "        ],\n",
        "        \"neutral\": [\n",
        "            \"Focus on routine tasks or organize your workspace.\",\n",
        "            \"Plan your day and prioritize tasks for maximum productivity.\",\n",
        "            \"Learn something new or explore a new tool.\",\n",
        "            \"Review your goals and progress.\"\n",
        "        ],\n",
        "        \"surprise\": [\n",
        "            \"Explore a new tool or learn something new.\",\n",
        "            \"Take on a task that challenges your creativity.\",\n",
        "            \"Share your excitement with your team and brainstorm ideas.\",\n",
        "            \"Reflect on what caused the surprise and how to leverage it.\"\n",
        "        ],\n",
        "        \"fear\": [\n",
        "            \"Review your tasks and prioritize what's most important.\",\n",
        "            \"Break down overwhelming tasks into smaller, manageable steps.\",\n",
        "            \"Seek support from a colleague or mentor.\",\n",
        "            \"Focus on tasks that build your confidence.\"\n",
        "        ],\n",
        "        \"disgust\": [\n",
        "            \"Clean your workspace or declutter your environment.\",\n",
        "            \"Take a break and engage in a refreshing activity.\",\n",
        "            \"Reflect on what caused the feeling and address it.\",\n",
        "            \"Switch to a task that aligns with your values and interests.\"\n",
        "        ]\n",
        "    }\n",
        "\n",
        "    # Get recommendations for the detected emotion\n",
        "    recommendations = task_recommendations.get(emotion.lower(), [\"No specific recommendation.\"])\n",
        "\n",
        "    # Return a random recommendation from the list\n",
        "    return random.choice(recommendations)\n",
        "\n",
        "# ==============================================\n",
        "# 2. Historical Mood Tracking\n",
        "# ==============================================\n",
        "mood_history = {}\n",
        "\n",
        "def track_mood(employee_id, mood):\n",
        "    timestamp = datetime.now().strftime(\"%Y-%m-%d %H:%M:%S\")\n",
        "    if employee_id not in mood_history:\n",
        "        mood_history[employee_id] = []\n",
        "    mood_history[employee_id].append((timestamp, mood))\n",
        "\n",
        "# ==============================================\n",
        "# 3. Stress Management Alert\n",
        "# ==============================================\n",
        "def check_stress_level(employee_id, threshold=3):\n",
        "    if employee_id in mood_history:\n",
        "        negative_moods = [mood for (_, mood) in mood_history[employee_id] if mood in [\"sad\", \"angry\", \"fear\"]]\n",
        "        if len(negative_moods) >= threshold:\n",
        "            print(f\"Alert: Employee {employee_id} may be experiencing prolonged stress. Notify HR.\")\n",
        "\n",
        "# ==============================================\n",
        "# 4. Data Privacy and Anonymization\n",
        "# ==============================================\n",
        "def anonymize_employee_id(employee_id):\n",
        "    return hashlib.sha256(employee_id.encode()).hexdigest()\n",
        "\n",
        "# ==============================================\n",
        "# 5. Capture Photo from Webcam\n",
        "# ==============================================\n",
        "def take_photo(filename='photo.jpg', quality=0.8):\n",
        "    # JavaScript code to capture a photo from the webcam\n",
        "    js = Javascript('''\n",
        "        async function takePhoto(quality) {\n",
        "            const div = document.createElement('div');\n",
        "            const video = document.createElement('video');\n",
        "            video.style.display = 'block';\n",
        "            const stream = await navigator.mediaDevices.getUserMedia({video: true});\n",
        "\n",
        "            document.body.appendChild(div);\n",
        "            div.appendChild(video);\n",
        "            video.srcObject = stream;\n",
        "            await video.play();\n",
        "\n",
        "            // Resize the video to match the camera's aspect ratio\n",
        "            const canvas = document.createElement('canvas');\n",
        "            canvas.width = video.videoWidth;\n",
        "            canvas.height = video.videoHeight;\n",
        "            canvas.getContext('2d').drawImage(video, 0, 0);\n",
        "            stream.getVideoTracks()[0].stop();\n",
        "            div.remove();\n",
        "            return canvas.toDataURL('image/jpeg', quality);\n",
        "        }\n",
        "    ''')\n",
        "    display(js)\n",
        "\n",
        "    # Get the photo data from JavaScript\n",
        "    data = eval_js('takePhoto({})'.format(quality))\n",
        "\n",
        "    # Decode the base64 image data\n",
        "    binary = b64decode(data.split(',')[1])\n",
        "\n",
        "    # Save the image to a file\n",
        "    with open(filename, 'wb') as f:\n",
        "        f.write(binary)\n",
        "\n",
        "    return filename\n",
        "\n",
        "# ==============================================\n",
        "# 6. Detect Emotion in Photo\n",
        "# ==============================================\n",
        "def detect_emotion(image_path):\n",
        "    try:\n",
        "        result = DeepFace.analyze(img_path=image_path, actions=['emotion'])\n",
        "        dominant_emotion = result[0]['dominant_emotion']\n",
        "        return dominant_emotion\n",
        "    except Exception as e:\n",
        "        return f\"Error: {e}\"\n",
        "\n",
        "# ==============================================\n",
        "# 7. Real-Time Emotion Detection and Task Recommendation\n",
        "# ==============================================\n",
        "def real_time_emotion_detection(employee_id):\n",
        "    for i in range(10):  # Capture 10 frames\n",
        "        # Capture a photo\n",
        "        photo_filename = take_photo()\n",
        "\n",
        "        # Detect emotion\n",
        "        emotion = detect_emotion(photo_filename)\n",
        "        print(f\"Frame {i+1}: Detected Emotion - {emotion}\")\n",
        "\n",
        "        # Recommend a task\n",
        "        task = recommend_task(emotion)\n",
        "        print(f\"Recommended Task: {task}\")\n",
        "\n",
        "        # Track mood\n",
        "        track_mood(employee_id, emotion)\n",
        "\n",
        "        # Check stress level\n",
        "        check_stress_level(employee_id)\n",
        "\n",
        "        # Display the photo\n",
        "        display(HTML(f\"<img src='{photo_filename}' width='400' />\"))\n",
        "\n",
        "        # Wait for 2 seconds before capturing the next frame\n",
        "        time.sleep(2)\n",
        "\n",
        "        # Clear the output for the next frame\n",
        "        display(HTML(\"\"))\n",
        "\n",
        "# ==============================================\n",
        "# 8. Main Function to Run the System\n",
        "# ==============================================\n",
        "def main():\n",
        "    # Example employee ID\n",
        "    employee_id = \"123\"\n",
        "    anonymized_id = anonymize_employee_id(employee_id)\n",
        "\n",
        "    # Start real-time emotion detection\n",
        "    real_time_emotion_detection(anonymized_id)\n",
        "\n",
        "    # Display mood history (if any)\n",
        "    if anonymized_id in mood_history:\n",
        "        print(f\"Mood History for Employee {anonymized_id}:\")\n",
        "        for timestamp, mood in mood_history[anonymized_id]:\n",
        "            print(f\"{timestamp}: {mood}\")\n",
        "    else:\n",
        "        print(f\"No mood data recorded for Employee {anonymized_id}.\")\n",
        "\n",
        "# Run the system\n",
        "if __name__ == \"__main__\":\n",
        "    main()"
      ]
    },
    {
      "cell_type": "code",
      "execution_count": null,
      "metadata": {
        "colab": {
          "base_uri": "https://localhost:8080/",
          "height": 1000
        },
        "id": "GAZaVtUQ2nYQ",
        "outputId": "ef5bda77-f05c-4226-f617-bc4ee6724710"
      },
      "outputs": [
        {
          "data": {
            "application/javascript": "\n        async function takePhoto(quality) {\n            const div = document.createElement('div');\n            const video = document.createElement('video');\n            video.style.display = 'block';\n            const stream = await navigator.mediaDevices.getUserMedia({video: true});\n\n            document.body.appendChild(div);\n            div.appendChild(video);\n            video.srcObject = stream;\n            await video.play();\n\n            // Resize the video to match the camera's aspect ratio\n            const canvas = document.createElement('canvas');\n            canvas.width = video.videoWidth;\n            canvas.height = video.videoHeight;\n            canvas.getContext('2d').drawImage(video, 0, 0);\n            stream.getVideoTracks()[0].stop();\n            div.remove();\n            return canvas.toDataURL('image/jpeg', quality);\n        }\n    ",
            "text/plain": [
              "<IPython.core.display.Javascript object>"
            ]
          },
          "metadata": {},
          "output_type": "display_data"
        },
        {
          "name": "stdout",
          "output_type": "stream",
          "text": [
            "Frame 1: Detected Emotion - neutral\n",
            "Recommended Task: Focus on routine tasks or organize your workspace.\n"
          ]
        },
        {
          "data": {
            "image/jpeg": "[encoded data removed]",
            "text/plain": [
              "<IPython.core.display.Image object>"
            ]
          },
          "metadata": {
            "image/jpeg": {
              "width": 400
            }
          },
          "output_type": "display_data"
        },
        {
          "data": {
            "text/html": [],
            "text/plain": [
              "<IPython.core.display.HTML object>"
            ]
          },
          "metadata": {},
          "output_type": "display_data"
        },
        {
          "data": {
            "application/javascript": "\n        async function takePhoto(quality) {\n            const div = document.createElement('div');\n            const video = document.createElement('video');\n            video.style.display = 'block';\n            const stream = await navigator.mediaDevices.getUserMedia({video: true});\n\n            document.body.appendChild(div);\n            div.appendChild(video);\n            video.srcObject = stream;\n            await video.play();\n\n            // Resize the video to match the camera's aspect ratio\n            const canvas = document.createElement('canvas');\n            canvas.width = video.videoWidth;\n            canvas.height = video.videoHeight;\n            canvas.getContext('2d').drawImage(video, 0, 0);\n            stream.getVideoTracks()[0].stop();\n            div.remove();\n            return canvas.toDataURL('image/jpeg', quality);\n        }\n    ",
            "text/plain": [
              "<IPython.core.display.Javascript object>"
            ]
          },
          "metadata": {},
          "output_type": "display_data"
        },
        {
          "name": "stdout",
          "output_type": "stream",
          "text": [
            "Frame 2: Detected Emotion - happy\n",
            "Recommended Task: Share your positive energy by helping a colleague.\n"
          ]
        },
        {
          "data": {
            "image/jpeg": "[encoded data removed]",
            "text/plain": [
              "<IPython.core.display.Image object>"
            ]
          },
          "metadata": {
            "image/jpeg": {
              "width": 400
            }
          },
          "output_type": "display_data"
        },
        {
          "data": {
            "text/html": [],
            "text/plain": [
              "<IPython.core.display.HTML object>"
            ]
          },
          "metadata": {},
          "output_type": "display_data"
        },
        {
          "data": {
            "application/javascript": "\n        async function takePhoto(quality) {\n            const div = document.createElement('div');\n            const video = document.createElement('video');\n            video.style.display = 'block';\n            const stream = await navigator.mediaDevices.getUserMedia({video: true});\n\n            document.body.appendChild(div);\n            div.appendChild(video);\n            video.srcObject = stream;\n            await video.play();\n\n            // Resize the video to match the camera's aspect ratio\n            const canvas = document.createElement('canvas');\n            canvas.width = video.videoWidth;\n            canvas.height = video.videoHeight;\n            canvas.getContext('2d').drawImage(video, 0, 0);\n            stream.getVideoTracks()[0].stop();\n            div.remove();\n            return canvas.toDataURL('image/jpeg', quality);\n        }\n    ",
            "text/plain": [
              "<IPython.core.display.Javascript object>"
            ]
          },
          "metadata": {},
          "output_type": "display_data"
        },
        {
          "name": "stdout",
          "output_type": "stream",
          "text": [
            "Frame 3: Detected Emotion - happy\n",
            "Recommended Task: Share your positive energy by helping a colleague.\n"
          ]
        },
        {
          "data": {
            "image/jpeg": "[encoded data removed]",
            "text/plain": [
              "<IPython.core.display.Image object>"
            ]
          },
          "metadata": {
            "image/jpeg": {
              "width": 400
            }
          },
          "output_type": "display_data"
        },
        {
          "data": {
            "text/html": [],
            "text/plain": [
              "<IPython.core.display.HTML object>"
            ]
          },
          "metadata": {},
          "output_type": "display_data"
        },
        {
          "data": {
            "application/javascript": "\n        async function takePhoto(quality) {\n            const div = document.createElement('div');\n            const video = document.createElement('video');\n            video.style.display = 'block';\n            const stream = await navigator.mediaDevices.getUserMedia({video: true});\n\n            document.body.appendChild(div);\n            div.appendChild(video);\n            video.srcObject = stream;\n            await video.play();\n\n            // Resize the video to match the camera's aspect ratio\n            const canvas = document.createElement('canvas');\n            canvas.width = video.videoWidth;\n            canvas.height = video.videoHeight;\n            canvas.getContext('2d').drawImage(video, 0, 0);\n            stream.getVideoTracks()[0].stop();\n            div.remove();\n            return canvas.toDataURL('image/jpeg', quality);\n        }\n    ",
            "text/plain": [
              "<IPython.core.display.Javascript object>"
            ]
          },
          "metadata": {},
          "output_type": "display_data"
        },
        {
          "name": "stdout",
          "output_type": "stream",
          "text": [
            "Frame 4: Detected Emotion - neutral\n",
            "Recommended Task: Focus on routine tasks or organize your workspace.\n"
          ]
        },
        {
          "data": {
            "image/jpeg": "[encoded data removed]",
            "text/plain": [
              "<IPython.core.display.Image object>"
            ]
          },
          "metadata": {
            "image/jpeg": {
              "width": 400
            }
          },
          "output_type": "display_data"
        },
        {
          "data": {
            "text/html": [],
            "text/plain": [
              "<IPython.core.display.HTML object>"
            ]
          },
          "metadata": {},
          "output_type": "display_data"
        },
        {
          "data": {
            "application/javascript": "\n        async function takePhoto(quality) {\n            const div = document.createElement('div');\n            const video = document.createElement('video');\n            video.style.display = 'block';\n            const stream = await navigator.mediaDevices.getUserMedia({video: true});\n\n            document.body.appendChild(div);\n            div.appendChild(video);\n            video.srcObject = stream;\n            await video.play();\n\n            // Resize the video to match the camera's aspect ratio\n            const canvas = document.createElement('canvas');\n            canvas.width = video.videoWidth;\n            canvas.height = video.videoHeight;\n            canvas.getContext('2d').drawImage(video, 0, 0);\n            stream.getVideoTracks()[0].stop();\n            div.remove();\n            return canvas.toDataURL('image/jpeg', quality);\n        }\n    ",
            "text/plain": [
              "<IPython.core.display.Javascript object>"
            ]
          },
          "metadata": {},
          "output_type": "display_data"
        },
        {
          "name": "stdout",
          "output_type": "stream",
          "text": [
            "Frame 5: Detected Emotion - neutral\n",
            "Recommended Task: Learn something new or explore a new tool.\n"
          ]
        },
        {
          "data": {
            "image/jpeg": "[encoded data removed]",
            "text/plain": [
              "<IPython.core.display.Image object>"
            ]
          },
          "metadata": {
            "image/jpeg": {
              "width": 400
            }
          },
          "output_type": "display_data"
        },
        {
          "data": {
            "text/html": [],
            "text/plain": [
              "<IPython.core.display.HTML object>"
            ]
          },
          "metadata": {},
          "output_type": "display_data"
        },
        {
          "data": {
            "application/javascript": "\n        async function takePhoto(quality) {\n            const div = document.createElement('div');\n            const video = document.createElement('video');\n            video.style.display = 'block';\n            const stream = await navigator.mediaDevices.getUserMedia({video: true});\n\n            document.body.appendChild(div);\n            div.appendChild(video);\n            video.srcObject = stream;\n            await video.play();\n\n            // Resize the video to match the camera's aspect ratio\n            const canvas = document.createElement('canvas');\n            canvas.width = video.videoWidth;\n            canvas.height = video.videoHeight;\n            canvas.getContext('2d').drawImage(video, 0, 0);\n            stream.getVideoTracks()[0].stop();\n            div.remove();\n            return canvas.toDataURL('image/jpeg', quality);\n        }\n    ",
            "text/plain": [
              "<IPython.core.display.Javascript object>"
            ]
          },
          "metadata": {},
          "output_type": "display_data"
        },
        {
          "name": "stdout",
          "output_type": "stream",
          "text": [
            "Frame 6: Detected Emotion - neutral\n",
            "Recommended Task: Review your goals and progress.\n"
          ]
        },
        {
          "data": {
            "image/jpeg": "[encoded data removed]",
            "text/plain": [
              "<IPython.core.display.Image object>"
            ]
          },
          "metadata": {
            "image/jpeg": {
              "width": 400
            }
          },
          "output_type": "display_data"
        },
        {
          "data": {
            "text/html": [],
            "text/plain": [
              "<IPython.core.display.HTML object>"
            ]
          },
          "metadata": {},
          "output_type": "display_data"
        },
        {
          "data": {
            "application/javascript": "\n        async function takePhoto(quality) {\n            const div = document.createElement('div');\n            const video = document.createElement('video');\n            video.style.display = 'block';\n            const stream = await navigator.mediaDevices.getUserMedia({video: true});\n\n            document.body.appendChild(div);\n            div.appendChild(video);\n            video.srcObject = stream;\n            await video.play();\n\n            // Resize the video to match the camera's aspect ratio\n            const canvas = document.createElement('canvas');\n            canvas.width = video.videoWidth;\n            canvas.height = video.videoHeight;\n            canvas.getContext('2d').drawImage(video, 0, 0);\n            stream.getVideoTracks()[0].stop();\n            div.remove();\n            return canvas.toDataURL('image/jpeg', quality);\n        }\n    ",
            "text/plain": [
              "<IPython.core.display.Javascript object>"
            ]
          },
          "metadata": {},
          "output_type": "display_data"
        },
        {
          "name": "stdout",
          "output_type": "stream",
          "text": [
            "Frame 7: Detected Emotion - happy\n",
            "Recommended Task: Take on a challenging task that excites you.\n"
          ]
        },
        {
          "data": {
            "image/jpeg": "[encoded data removed]",
            "text/plain": [
              "<IPython.core.display.Image object>"
            ]
          },
          "metadata": {
            "image/jpeg": {
              "width": 400
            }
          },
          "output_type": "display_data"
        },
        {
          "data": {
            "text/html": [],
            "text/plain": [
              "<IPython.core.display.HTML object>"
            ]
          },
          "metadata": {},
          "output_type": "display_data"
        },
        {
          "data": {
            "application/javascript": "\n        async function takePhoto(quality) {\n            const div = document.createElement('div');\n            const video = document.createElement('video');\n            video.style.display = 'block';\n            const stream = await navigator.mediaDevices.getUserMedia({video: true});\n\n            document.body.appendChild(div);\n            div.appendChild(video);\n            video.srcObject = stream;\n            await video.play();\n\n            // Resize the video to match the camera's aspect ratio\n            const canvas = document.createElement('canvas');\n            canvas.width = video.videoWidth;\n            canvas.height = video.videoHeight;\n            canvas.getContext('2d').drawImage(video, 0, 0);\n            stream.getVideoTracks()[0].stop();\n            div.remove();\n            return canvas.toDataURL('image/jpeg', quality);\n        }\n    ",
            "text/plain": [
              "<IPython.core.display.Javascript object>"
            ]
          },
          "metadata": {},
          "output_type": "display_data"
        },
        {
          "name": "stdout",
          "output_type": "stream",
          "text": [
            "Frame 8: Detected Emotion - happy\n",
            "Recommended Task: Collaborate with teammates on a fun and engaging task.\n"
          ]
        },
        {
          "data": {
            "image/jpeg": "[encoded data removed]",
            "text/plain": [
              "<IPython.core.display.Image object>"
            ]
          },
          "metadata": {
            "image/jpeg": {
              "width": 400
            }
          },
          "output_type": "display_data"
        },
        {
          "data": {
            "text/html": [],
            "text/plain": [
              "<IPython.core.display.HTML object>"
            ]
          },
          "metadata": {},
          "output_type": "display_data"
        },
        {
          "data": {
            "application/javascript": "\n        async function takePhoto(quality) {\n            const div = document.createElement('div');\n            const video = document.createElement('video');\n            video.style.display = 'block';\n            const stream = await navigator.mediaDevices.getUserMedia({video: true});\n\n            document.body.appendChild(div);\n            div.appendChild(video);\n            video.srcObject = stream;\n            await video.play();\n\n            // Resize the video to match the camera's aspect ratio\n            const canvas = document.createElement('canvas');\n            canvas.width = video.videoWidth;\n            canvas.height = video.videoHeight;\n            canvas.getContext('2d').drawImage(video, 0, 0);\n            stream.getVideoTracks()[0].stop();\n            div.remove();\n            return canvas.toDataURL('image/jpeg', quality);\n        }\n    ",
            "text/plain": [
              "<IPython.core.display.Javascript object>"
            ]
          },
          "metadata": {},
          "output_type": "display_data"
        },
        {
          "name": "stdout",
          "output_type": "stream",
          "text": [
            "Frame 9: Detected Emotion - neutral\n",
            "Recommended Task: Plan your day and prioritize tasks for maximum productivity.\n"
          ]
        },
        {
          "data": {
            "image/jpeg": "[encoded data removed]",
            "text/plain": [
              "<IPython.core.display.Image object>"
            ]
          },
          "metadata": {
            "image/jpeg": {
              "width": 400
            }
          },
          "output_type": "display_data"
        },
        {
          "ename": "KeyboardInterrupt",
          "evalue": "",
          "output_type": "error",
          "traceback": [
            "\u001b[0;31m---------------------------------------------------------------------------\u001b[0m",
            "\u001b[0;31mKeyboardInterrupt\u001b[0m                         Traceback (most recent call last)",
            "\u001b[0;32m<ipython-input-28-43432f254982>\u001b[0m in \u001b[0;36m<cell line: 0>\u001b[0;34m()\u001b[0m\n\u001b[1;32m    197\u001b[0m \u001b[0;31m# Run the system\u001b[0m\u001b[0;34m\u001b[0m\u001b[0;34m\u001b[0m\u001b[0m\n\u001b[1;32m    198\u001b[0m \u001b[0;32mif\u001b[0m \u001b[0m__name__\u001b[0m \u001b[0;34m==\u001b[0m \u001b[0;34m\"__main__\"\u001b[0m\u001b[0;34m:\u001b[0m\u001b[0;34m\u001b[0m\u001b[0;34m\u001b[0m\u001b[0m\n\u001b[0;32m--> 199\u001b[0;31m     \u001b[0mmain\u001b[0m\u001b[0;34m(\u001b[0m\u001b[0;34m)\u001b[0m\u001b[0;34m\u001b[0m\u001b[0;34m\u001b[0m\u001b[0m\n\u001b[0m",
            "\u001b[0;32m<ipython-input-28-43432f254982>\u001b[0m in \u001b[0;36mmain\u001b[0;34m()\u001b[0m\n\u001b[1;32m    185\u001b[0m \u001b[0;34m\u001b[0m\u001b[0m\n\u001b[1;32m    186\u001b[0m     \u001b[0;31m# Start real-time emotion detection\u001b[0m\u001b[0;34m\u001b[0m\u001b[0;34m\u001b[0m\u001b[0m\n\u001b[0;32m--> 187\u001b[0;31m     \u001b[0mreal_time_emotion_detection\u001b[0m\u001b[0;34m(\u001b[0m\u001b[0manonymized_id\u001b[0m\u001b[0;34m)\u001b[0m\u001b[0;34m\u001b[0m\u001b[0;34m\u001b[0m\u001b[0m\n\u001b[0m\u001b[1;32m    188\u001b[0m \u001b[0;34m\u001b[0m\u001b[0m\n\u001b[1;32m    189\u001b[0m     \u001b[0;31m# Display mood history (if any)\u001b[0m\u001b[0;34m\u001b[0m\u001b[0;34m\u001b[0m\u001b[0m\n",
            "\u001b[0;32m<ipython-input-28-43432f254982>\u001b[0m in \u001b[0;36mreal_time_emotion_detection\u001b[0;34m(employee_id)\u001b[0m\n\u001b[1;32m    171\u001b[0m \u001b[0;34m\u001b[0m\u001b[0m\n\u001b[1;32m    172\u001b[0m         \u001b[0;31m# Wait for 2 seconds before capturing the next frame\u001b[0m\u001b[0;34m\u001b[0m\u001b[0;34m\u001b[0m\u001b[0m\n\u001b[0;32m--> 173\u001b[0;31m         \u001b[0mtime\u001b[0m\u001b[0;34m.\u001b[0m\u001b[0msleep\u001b[0m\u001b[0;34m(\u001b[0m\u001b[0;36m2\u001b[0m\u001b[0;34m)\u001b[0m\u001b[0;34m\u001b[0m\u001b[0;34m\u001b[0m\u001b[0m\n\u001b[0m\u001b[1;32m    174\u001b[0m \u001b[0;34m\u001b[0m\u001b[0m\n\u001b[1;32m    175\u001b[0m         \u001b[0;31m# Clear the output for the next frame\u001b[0m\u001b[0;34m\u001b[0m\u001b[0;34m\u001b[0m\u001b[0m\n",
            "\u001b[0;31mKeyboardInterrupt\u001b[0m: "
          ]
        }
      ],
      "source": [
        "# Import required libraries\n",
        "from IPython.display import display, Javascript, HTML, Image\n",
        "from google.colab.output import eval_js\n",
        "from base64 import b64decode\n",
        "import cv2\n",
        "import numpy as np\n",
        "from deepface import DeepFace\n",
        "from datetime import datetime\n",
        "import hashlib\n",
        "import time\n",
        "import pandas as pd\n",
        "import random\n",
        "\n",
        "# ==============================================\n",
        "# 1. Task Recommendation\n",
        "# ==============================================\n",
        "def recommend_task(emotion):\n",
        "    task_recommendations = {\n",
        "        \"happy\": [\n",
        "            \"Work on a creative project or brainstorm new ideas.\",\n",
        "            \"Collaborate with teammates on a fun and engaging task.\",\n",
        "            \"Take on a challenging task that excites you.\",\n",
        "            \"Share your positive energy by helping a colleague.\"\n",
        "        ],\n",
        "        \"sad\": [\n",
        "            \"Take a short break and listen to calming music.\",\n",
        "            \"Reach out to a friend or colleague for a chat.\",\n",
        "            \"Write down your thoughts in a journal to reflect on your feelings.\",\n",
        "            \"Engage in a light and enjoyable task to lift your mood.\"\n",
        "        ],\n",
        "        \"angry\": [\n",
        "            \"Step away from the desk and take a walk to cool down.\",\n",
        "            \"Practice deep breathing or mindfulness exercises.\",\n",
        "            \"Write down what's bothering you and brainstorm solutions.\",\n",
        "            \"Engage in a physical activity to release tension.\"\n",
        "        ],\n",
        "        \"neutral\": [\n",
        "            \"Focus on routine tasks or organize your workspace.\",\n",
        "            \"Plan your day and prioritize tasks for maximum productivity.\",\n",
        "            \"Learn something new or explore a new tool.\",\n",
        "            \"Review your goals and progress.\"\n",
        "        ],\n",
        "        \"surprise\": [\n",
        "            \"Explore a new tool or learn something new.\",\n",
        "            \"Take on a task that challenges your creativity.\",\n",
        "            \"Share your excitement with your team and brainstorm ideas.\",\n",
        "            \"Reflect on what caused the surprise and how to leverage it.\"\n",
        "        ],\n",
        "        \"fear\": [\n",
        "            \"Review your tasks and prioritize what's most important.\",\n",
        "            \"Break down overwhelming tasks into smaller, manageable steps.\",\n",
        "            \"Seek support from a colleague or mentor.\",\n",
        "            \"Focus on tasks that build your confidence.\"\n",
        "        ],\n",
        "        \"disgust\": [\n",
        "            \"Clean your workspace or declutter your environment.\",\n",
        "            \"Take a break and engage in a refreshing activity.\",\n",
        "            \"Reflect on what caused the feeling and address it.\",\n",
        "            \"Switch to a task that aligns with your values and interests.\"\n",
        "        ]\n",
        "    }\n",
        "\n",
        "    # Get recommendations for the detected emotion\n",
        "    recommendations = task_recommendations.get(emotion.lower(), [\"No specific recommendation.\"])\n",
        "\n",
        "    # Return a random recommendation from the list\n",
        "    return random.choice(recommendations)\n",
        "\n",
        "# ==============================================\n",
        "# 2. Historical Mood Tracking\n",
        "# ==============================================\n",
        "mood_history = {}\n",
        "\n",
        "def track_mood(employee_id, mood):\n",
        "    timestamp = datetime.now().strftime(\"%Y-%m-%d %H:%M:%S\")\n",
        "    if employee_id not in mood_history:\n",
        "        mood_history[employee_id] = []\n",
        "    mood_history[employee_id].append((timestamp, mood))\n",
        "\n",
        "# ==============================================\n",
        "# 3. Stress Management Alert\n",
        "# ==============================================\n",
        "def check_stress_level(employee_id, threshold=3):\n",
        "    if employee_id in mood_history:\n",
        "        negative_moods = [mood for (_, mood) in mood_history[employee_id] if mood in [\"sad\", \"angry\", \"fear\"]]\n",
        "        if len(negative_moods) >= threshold:\n",
        "            print(f\"Alert: Employee {employee_id} may be experiencing prolonged stress. Notify HR.\")\n",
        "\n",
        "# ==============================================\n",
        "# 4. Data Privacy and Anonymization\n",
        "# ==============================================\n",
        "def anonymize_employee_id(employee_id):\n",
        "    return hashlib.sha256(employee_id.encode()).hexdigest()\n",
        "\n",
        "# ==============================================\n",
        "# 5. Capture Photo from Webcam\n",
        "# ==============================================\n",
        "def take_photo(filename='photo.jpg', quality=0.8):\n",
        "    # JavaScript code to capture a photo from the webcam\n",
        "    js = Javascript('''\n",
        "        async function takePhoto(quality) {\n",
        "            const div = document.createElement('div');\n",
        "            const video = document.createElement('video');\n",
        "            video.style.display = 'block';\n",
        "            const stream = await navigator.mediaDevices.getUserMedia({video: true});\n",
        "\n",
        "            document.body.appendChild(div);\n",
        "            div.appendChild(video);\n",
        "            video.srcObject = stream;\n",
        "            await video.play();\n",
        "\n",
        "            // Resize the video to match the camera's aspect ratio\n",
        "            const canvas = document.createElement('canvas');\n",
        "            canvas.width = video.videoWidth;\n",
        "            canvas.height = video.videoHeight;\n",
        "            canvas.getContext('2d').drawImage(video, 0, 0);\n",
        "            stream.getVideoTracks()[0].stop();\n",
        "            div.remove();\n",
        "            return canvas.toDataURL('image/jpeg', quality);\n",
        "        }\n",
        "    ''')\n",
        "    display(js)\n",
        "\n",
        "    # Get the photo data from JavaScript\n",
        "    data = eval_js('takePhoto({})'.format(quality))\n",
        "\n",
        "    # Decode the base64 image data\n",
        "    binary = b64decode(data.split(',')[1])\n",
        "\n",
        "    # Save the image to a file\n",
        "    with open(filename, 'wb') as f:\n",
        "        f.write(binary)\n",
        "\n",
        "    return filename\n",
        "\n",
        "# ==============================================\n",
        "# 6. Detect Emotion in Photo\n",
        "# ==============================================\n",
        "def detect_emotion(image_path):\n",
        "    try:\n",
        "        result = DeepFace.analyze(img_path=image_path, actions=['emotion'])\n",
        "        dominant_emotion = result[0]['dominant_emotion']\n",
        "        return dominant_emotion\n",
        "    except Exception as e:\n",
        "        return f\"Error: {e}\"\n",
        "\n",
        "# ==============================================\n",
        "# 7. Real-Time Emotion Detection and Task Recommendation\n",
        "# ==============================================\n",
        "def real_time_emotion_detection(employee_id):\n",
        "    for i in range(10):  # Capture 10 frames\n",
        "        # Capture a photo\n",
        "        photo_filename = take_photo()\n",
        "\n",
        "        # Detect emotion\n",
        "        emotion = detect_emotion(photo_filename)\n",
        "        print(f\"Frame {i+1}: Detected Emotion - {emotion}\")\n",
        "\n",
        "        # Recommend a task\n",
        "        task = recommend_task(emotion)\n",
        "        print(f\"Recommended Task: {task}\")\n",
        "\n",
        "        # Track mood\n",
        "        track_mood(employee_id, emotion)\n",
        "\n",
        "        # Check stress level\n",
        "        check_stress_level(employee_id)\n",
        "\n",
        "        # Display the photo\n",
        "        display(Image(filename=photo_filename, width=400))\n",
        "\n",
        "        # Wait for 2 seconds before capturing the next frame\n",
        "        time.sleep(2)\n",
        "\n",
        "        # Clear the output for the next frame\n",
        "        display(HTML(\"\"))\n",
        "\n",
        "# ==============================================\n",
        "# 8. Main Function to Run the System\n",
        "# ==============================================\n",
        "def main():\n",
        "    # Example employee ID\n",
        "    employee_id = \"123\"\n",
        "    anonymized_id = anonymize_employee_id(employee_id)\n",
        "\n",
        "    # Start real-time emotion detection\n",
        "    real_time_emotion_detection(anonymized_id)\n",
        "\n",
        "    # Display mood history (if any)\n",
        "    if anonymized_id in mood_history:\n",
        "        print(f\"Mood History for Employee {anonymized_id}:\")\n",
        "        for timestamp, mood in mood_history[anonymized_id]:\n",
        "            print(f\"{timestamp}: {mood}\")\n",
        "    else:\n",
        "        print(f\"No mood data recorded for Employee {anonymized_id}.\")\n",
        "\n",
        "# Run the system\n",
        "if __name__ == \"__main__\":\n",
        "    main()"
      ]
    },
    {
      "cell_type": "code",
      "execution_count": null,
      "metadata": {
        "colab": {
          "base_uri": "https://localhost:8080/",
          "height": 399
        },
        "id": "ARMUWuzvBl2h",
        "outputId": "838dc4b1-1f3a-45e9-f47c-f226da1ec644"
      },
      "outputs": [
        {
          "ename": "ModuleNotFoundError",
          "evalue": "No module named 'streamlit'",
          "output_type": "error",
          "traceback": [
            "\u001b[0;31m---------------------------------------------------------------------------\u001b[0m",
            "\u001b[0;31mModuleNotFoundError\u001b[0m                       Traceback (most recent call last)",
            "\u001b[0;32m<ipython-input-29-338991b2af95>\u001b[0m in \u001b[0;36m<cell line: 0>\u001b[0;34m()\u001b[0m\n\u001b[1;32m     10\u001b[0m \u001b[0;32mimport\u001b[0m \u001b[0msoundfile\u001b[0m \u001b[0;32mas\u001b[0m \u001b[0msf\u001b[0m\u001b[0;34m\u001b[0m\u001b[0;34m\u001b[0m\u001b[0m\n\u001b[1;32m     11\u001b[0m \u001b[0;32mfrom\u001b[0m \u001b[0msklearn\u001b[0m\u001b[0;34m.\u001b[0m\u001b[0mensemble\u001b[0m \u001b[0;32mimport\u001b[0m \u001b[0mRandomForestClassifier\u001b[0m\u001b[0;34m\u001b[0m\u001b[0;34m\u001b[0m\u001b[0m\n\u001b[0;32m---> 12\u001b[0;31m \u001b[0;32mimport\u001b[0m \u001b[0mstreamlit\u001b[0m \u001b[0;32mas\u001b[0m \u001b[0mst\u001b[0m\u001b[0;34m\u001b[0m\u001b[0;34m\u001b[0m\u001b[0m\n\u001b[0m\u001b[1;32m     13\u001b[0m \u001b[0;34m\u001b[0m\u001b[0m\n\u001b[1;32m     14\u001b[0m \u001b[0;31m# ==============================================\u001b[0m\u001b[0;34m\u001b[0m\u001b[0;34m\u001b[0m\u001b[0m\n",
            "\u001b[0;31mModuleNotFoundError\u001b[0m: No module named 'streamlit'",
            "",
            "\u001b[0;31m---------------------------------------------------------------------------\u001b[0;32m\nNOTE: If your import is failing due to a missing package, you can\nmanually install dependencies using either !pip or !apt.\n\nTo view examples of installing some common dependencies, click the\n\"Open Examples\" button below.\n\u001b[0;31m---------------------------------------------------------------------------\u001b[0m\n"
          ]
        }
      ],
      "source": [
        "# Import required libraries\n",
        "import cv2\n",
        "import numpy as np\n",
        "from deepface import DeepFace\n",
        "from datetime import datetime\n",
        "import hashlib\n",
        "import time\n",
        "import sqlite3\n",
        "import librosa\n",
        "import soundfile as sf\n",
        "from sklearn.ensemble import RandomForestClassifier\n",
        "import streamlit as st\n",
        "\n",
        "# ==============================================\n",
        "# 1. Task Recommendation\n",
        "# ==============================================\n",
        "def recommend_task(emotion):\n",
        "    task_recommendations = {\n",
        "        \"happy\": [\n",
        "            \"Work on a creative project or brainstorm new ideas.\",\n",
        "            \"Collaborate with teammates on a fun and engaging task.\",\n",
        "            \"Take on a challenging task that excites you.\",\n",
        "            \"Share your positive energy by helping a colleague.\"\n",
        "        ],\n",
        "        \"sad\": [\n",
        "            \"Take a short break and listen to calming music.\",\n",
        "            \"Reach out to a friend or colleague for a chat.\",\n",
        "            \"Write down your thoughts in a journal to reflect on your feelings.\",\n",
        "            \"Engage in a light and enjoyable task to lift your mood.\"\n",
        "        ],\n",
        "        \"angry\": [\n",
        "            \"Step away from the desk and take a walk to cool down.\",\n",
        "            \"Practice deep breathing or mindfulness exercises.\",\n",
        "            \"Write down what's bothering you and brainstorm solutions.\",\n",
        "            \"Engage in a physical activity to release tension.\"\n",
        "        ],\n",
        "        \"neutral\": [\n",
        "            \"Focus on routine tasks or organize your workspace.\",\n",
        "            \"Plan your day and prioritize tasks for maximum productivity.\",\n",
        "            \"Learn something new or explore a new tool.\",\n",
        "            \"Review your goals and progress.\"\n",
        "        ],\n",
        "        \"surprise\": [\n",
        "            \"Explore a new tool or learn something new.\",\n",
        "            \"Take on a task that challenges your creativity.\",\n",
        "            \"Share your excitement with your team and brainstorm ideas.\",\n",
        "            \"Reflect on what caused the surprise and how to leverage it.\"\n",
        "        ],\n",
        "        \"fear\": [\n",
        "            \"Review your tasks and prioritize what's most important.\",\n",
        "            \"Break down overwhelming tasks into smaller, manageable steps.\",\n",
        "            \"Seek support from a colleague or mentor.\",\n",
        "            \"Focus on tasks that build your confidence.\"\n",
        "        ],\n",
        "        \"disgust\": [\n",
        "            \"Clean your workspace or declutter your environment.\",\n",
        "            \"Take a break and engage in a refreshing activity.\",\n",
        "            \"Reflect on what caused the feeling and address it.\",\n",
        "            \"Switch to a task that aligns with your values and interests.\"\n",
        "        ]\n",
        "    }\n",
        "\n",
        "    # Get recommendations for the detected emotion\n",
        "    recommendations = task_recommendations.get(emotion.lower(), [\"No specific recommendation.\"])\n",
        "\n",
        "    # Return a random recommendation from the list\n",
        "    return random.choice(recommendations)\n",
        "\n",
        "# ==============================================\n",
        "# 2. Database Integration\n",
        "# ==============================================\n",
        "conn = sqlite3.connect('mood_history.db')\n",
        "cursor = conn.cursor()\n",
        "\n",
        "# Create a table to store mood history\n",
        "cursor.execute('''\n",
        "CREATE TABLE IF NOT EXISTS mood_history (\n",
        "    employee_id TEXT,\n",
        "    timestamp TEXT,\n",
        "    mood TEXT\n",
        ")\n",
        "''')\n",
        "conn.commit()\n",
        "\n",
        "def save_mood_to_db(employee_id, mood):\n",
        "    timestamp = datetime.now().strftime(\"%Y-%m-%d %H:%M:%S\")\n",
        "    cursor.execute('''\n",
        "    INSERT INTO mood_history (employee_id, timestamp, mood)\n",
        "    VALUES (?, ?, ?)\n",
        "    ''', (employee_id, timestamp, mood))\n",
        "    conn.commit()\n",
        "\n",
        "def get_mood_history(employee_id):\n",
        "    cursor.execute('''\n",
        "    SELECT timestamp, mood FROM mood_history\n",
        "    WHERE employee_id = ?\n",
        "    ''', (employee_id,))\n",
        "    return cursor.fetchall()\n",
        "\n",
        "# ==============================================\n",
        "# 3. Speech Emotion Recognition\n",
        "# ==============================================\n",
        "speech_model = RandomForestClassifier()  # Replace with your trained model\n",
        "\n",
        "def extract_speech_features(audio_path):\n",
        "    y, sr = librosa.load(audio_path, sr=None)\n",
        "    mfccs = librosa.feature.mfcc(y=y, sr=sr, n_mfcc=13)\n",
        "    mfccs_mean = np.mean(mfccs.T, axis=0)\n",
        "    return mfccs_mean\n",
        "\n",
        "def predict_speech_emotion(audio_path):\n",
        "    features = extract_speech_features(audio_path)\n",
        "    emotion = speech_model.predict([features])[0]  # Replace with your model\n",
        "    return emotion\n",
        "\n",
        "# ==============================================\n",
        "# 4. Streamlit App\n",
        "# ==============================================\n",
        "def main():\n",
        "    st.title(\"Real-Time Emotion Detection and Task Recommendation\")\n",
        "\n",
        "    # Employee ID input\n",
        "    employee_id = st.text_input(\"Enter Employee ID:\")\n",
        "\n",
        "    if employee_id:\n",
        "        anonymized_id = anonymize_employee_id(employee_id)\n",
        "\n",
        "        # Capture photo and detect emotion\n",
        "        if st.button(\"Capture Photo and Detect Emotion\"):\n",
        "            photo_filename = take_photo()\n",
        "            emotion = detect_emotion(photo_filename)\n",
        "            task = recommend_task(emotion)\n",
        "\n",
        "            # Display results\n",
        "            st.image(photo_filename, caption=\"Captured Photo\", width=300)\n",
        "            st.write(f\"Detected Emotion: {emotion}\")\n",
        "            st.write(f\"Recommended Task: {task}\")\n",
        "\n",
        "            # Save mood to database\n",
        "            save_mood_to_db(anonymized_id, emotion)\n",
        "\n",
        "        # Display mood history\n",
        "        st.subheader(\"Mood History\")\n",
        "        mood_history = get_mood_history(anonymized_id)\n",
        "        if mood_history:\n",
        "            for timestamp, mood in mood_history:\n",
        "                st.write(f\"{timestamp}: {mood}\")\n",
        "        else:\n",
        "            st.write(\"No mood data recorded.\")\n",
        "\n",
        "if __name__ == \"__main__\":\n",
        "    main()"
      ]
    },
    {
      "cell_type": "code",
      "execution_count": null,
      "metadata": {
        "id": "zeXLbFoQ1_59"
      },
      "outputs": [],
      "source": []
    },
    {
      "cell_type": "code",
      "execution_count": null,
      "metadata": {
        "colab": {
          "base_uri": "https://localhost:8080/"
        },
        "id": "rIxAmWqcw10S",
        "outputId": "b3933456-abc4-44b1-cc53-a7a0fef347c6"
      },
      "outputs": [
        {
          "name": "stdout",
          "output_type": "stream",
          "text": [
            "25-03-18 05:41:45 - facial_expression_model_weights.h5 will be downloaded...\n"
          ]
        },
        {
          "name": "stderr",
          "output_type": "stream",
          "text": [
            "Downloading...\n",
            "From: https://github.com/serengil/deepface_models/releases/download/v1.0/facial_expression_model_weights.h5\n",
            "To: /root/.deepface/weights/facial_expression_model_weights.h5\n",
            "100%|██████████| 5.98M/5.98M [00:00<00:00, 111MB/s]\n"
          ]
        },
        {
          "name": "stdout",
          "output_type": "stream",
          "text": [
            "Detected Emotion: sad\n"
          ]
        }
      ],
      "source": [
        "from deepface import DeepFace\n",
        "import cv2\n",
        "\n",
        "# Analyze the captured photo for emotions\n",
        "def detect_emotion(image_path):\n",
        "    try:\n",
        "        result = DeepFace.analyze(img_path=image_path, actions=['emotion'])\n",
        "        dominant_emotion = result[0]['dominant_emotion']\n",
        "        return dominant_emotion\n",
        "    except Exception as e:\n",
        "        return f\"Error: {e}\"\n",
        "\n",
        "# Detect emotion in the captured photo\n",
        "emotion = detect_emotion(photo_filename)\n",
        "print(f\"Detected Emotion: {emotion}\")"
      ]
    },
    {
      "cell_type": "code",
      "execution_count": null,
      "metadata": {
        "colab": {
          "base_uri": "https://localhost:8080/",
          "height": 35
        },
        "id": "MW0MPsOPwkfp",
        "outputId": "6b8e93dd-210e-414a-dda7-4e125b6532e5"
      },
      "outputs": [
        {
          "data": {
            "application/javascript": "\n        async function takePhoto(quality) {\n            const div = document.createElement('div');\n            const video = document.createElement('video');\n            video.style.display = 'block';\n            const stream = await navigator.mediaDevices.getUserMedia({video: true});\n\n            document.body.appendChild(div);\n            div.appendChild(video);\n            video.srcObject = stream;\n            await video.play();\n\n            // Resize the video to match the camera's aspect ratio\n            const canvas = document.createElement('canvas');\n            canvas.width = video.videoWidth;\n            canvas.height = video.videoHeight;\n            canvas.getContext('2d').drawImage(video, 0, 0);\n            stream.getVideoTracks()[0].stop();\n            div.remove();\n            return canvas.toDataURL('image/jpeg', quality);\n        }\n    ",
            "text/plain": [
              "<IPython.core.display.Javascript object>"
            ]
          },
          "metadata": {},
          "output_type": "display_data"
        },
        {
          "name": "stdout",
          "output_type": "stream",
          "text": [
            "Photo saved as photo.jpg\n"
          ]
        }
      ],
      "source": [
        "from IPython.display import display, Javascript\n",
        "from google.colab.output import eval_js\n",
        "from base64 import b64decode\n",
        "import cv2\n",
        "import numpy as np\n",
        "\n",
        "def take_photo(filename='photo.jpg', quality=0.8):\n",
        "    # JavaScript code to capture a photo from the webcam\n",
        "    js = Javascript('''\n",
        "        async function takePhoto(quality) {\n",
        "            const div = document.createElement('div');\n",
        "            const video = document.createElement('video');\n",
        "            video.style.display = 'block';\n",
        "            const stream = await navigator.mediaDevices.getUserMedia({video: true});\n",
        "\n",
        "            document.body.appendChild(div);\n",
        "            div.appendChild(video);\n",
        "            video.srcObject = stream;\n",
        "            await video.play();\n",
        "\n",
        "            // Resize the video to match the camera's aspect ratio\n",
        "            const canvas = document.createElement('canvas');\n",
        "            canvas.width = video.videoWidth;\n",
        "            canvas.height = video.videoHeight;\n",
        "            canvas.getContext('2d').drawImage(video, 0, 0);\n",
        "            stream.getVideoTracks()[0].stop();\n",
        "            div.remove();\n",
        "            return canvas.toDataURL('image/jpeg', quality);\n",
        "        }\n",
        "    ''')\n",
        "    display(js)\n",
        "\n",
        "    # Get the photo data from JavaScript\n",
        "    data = eval_js('takePhoto({})'.format(quality))\n",
        "\n",
        "    # Decode the base64 image data\n",
        "    binary = b64decode(data.split(',')[1])\n",
        "\n",
        "    # Save the image to a file\n",
        "    with open(filename, 'wb') as f:\n",
        "        f.write(binary)\n",
        "\n",
        "    return filename\n",
        "\n",
        "# Capture a photo from the webcam\n",
        "photo_filename = take_photo()\n",
        "print(f\"Photo saved as {photo_filename}\")"
      ]
    }
  ],
  "metadata": {
    "colab": {
      "provenance": []
    },
    "kernelspec": {
      "display_name": "Python 3",
      "name": "python3"
    },
    "language_info": {
      "codemirror_mode": {
        "name": "ipython",
        "version": 3
      },
      "file_extension": ".py",
      "mimetype": "text/x-python",
      "name": "python",
      "nbconvert_exporter": "python",
      "pygments_lexer": "ipython3",
      "version": "3.12.6"
    }
  },
  "nbformat": 4,
  "nbformat_minor": 0
}
